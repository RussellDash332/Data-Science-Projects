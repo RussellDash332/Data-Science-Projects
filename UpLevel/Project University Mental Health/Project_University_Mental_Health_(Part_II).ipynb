{
  "nbformat": 4,
  "nbformat_minor": 0,
  "metadata": {
    "kernelspec": {
      "display_name": "Python 3",
      "language": "python",
      "name": "python3"
    },
    "language_info": {
      "codemirror_mode": {
        "name": "ipython",
        "version": 3
      },
      "file_extension": ".py",
      "mimetype": "text/x-python",
      "name": "python",
      "nbconvert_exporter": "python",
      "pygments_lexer": "ipython3",
      "version": "3.8.3"
    },
    "colab": {
      "name": "Project University Mental Health (Part II).ipynb",
      "provenance": []
    }
  },
  "cells": [
    {
      "cell_type": "markdown",
      "metadata": {
        "id": "x6L2hI2J9f1c"
      },
      "source": [
        "# Introduction\n",
        "In Part I, we downloaded and (hopefully) took some time to read the publication. We also spent some time cleaning the dataset and made sure that it was in an acceptable form.\n",
        "\n",
        "In this Part, here's what we're gonna do:\n",
        "1. Import pandas and plotting libraries\n",
        "2. Split our main DataFrame into a numerical and a categorical DataFrame\n",
        "3. Perform univariate analysis on each\n",
        "4. Perform bivariate analysis based on hypotheses made\n",
        "5. Generate a correlation matrix using the two DataFrames\n",
        "\n",
        "Useful readings on visualization: \n",
        "<a href = \"https://towardsdatascience.com/introduction-to-data-visualization-in-python-89a54c97fbed\">Introduction to Data Visualization in Python</a> (run it in Incognito Mode if you face the paywall)\n",
        "\n",
        "It's quite comprehensive and a useful guide for this Part if you're new to visualization.\n",
        "\n",
        "### Step 1: Import the following libraries\n",
        "- pandas\n",
        "- matplotlib.pyplot as plt\n",
        "- seaborn as sns"
      ]
    },
    {
      "cell_type": "code",
      "metadata": {
        "id": "2EtUIxkh9f1g"
      },
      "source": [
        "# Step 1: Import libraries\n",
        "import pandas as pd\n",
        "import matplotlib.pyplot as plt\n",
        "import seaborn as sns"
      ],
      "execution_count": 1,
      "outputs": []
    },
    {
      "cell_type": "markdown",
      "metadata": {
        "id": "MjtUTIz19f1h"
      },
      "source": [
        "### Step 2: Read the CSV from Part I\n",
        "Let's read the CSV you got from the DataFrame at the end of Part I. \n",
        "\n",
        "![CleanedDataFrame.png](attachment:CleanedDataFrame.png)\n",
        "\n",
        "We expect:\n",
        "1. 268 rows\n",
        "2. 50 columns"
      ]
    },
    {
      "cell_type": "code",
      "metadata": {
        "colab": {
          "base_uri": "https://localhost:8080/",
          "height": 439
        },
        "id": "7uy9yfvk9f1i",
        "outputId": "6d98323a-20b6-4169-e7d4-ebb89b3e7867"
      },
      "source": [
        "# Step 2: Read the CSV from Part I\n",
        "df = pd.read_csv(\"part1_data.csv\")\n",
        "df"
      ],
      "execution_count": 3,
      "outputs": [
        {
          "output_type": "execute_result",
          "data": {
            "text/html": [
              "<div>\n",
              "<style scoped>\n",
              "    .dataframe tbody tr th:only-of-type {\n",
              "        vertical-align: middle;\n",
              "    }\n",
              "\n",
              "    .dataframe tbody tr th {\n",
              "        vertical-align: top;\n",
              "    }\n",
              "\n",
              "    .dataframe thead th {\n",
              "        text-align: right;\n",
              "    }\n",
              "</style>\n",
              "<table border=\"1\" class=\"dataframe\">\n",
              "  <thead>\n",
              "    <tr style=\"text-align: right;\">\n",
              "      <th></th>\n",
              "      <th>inter_dom</th>\n",
              "      <th>Region</th>\n",
              "      <th>Gender</th>\n",
              "      <th>Academic</th>\n",
              "      <th>Age</th>\n",
              "      <th>Age_cate</th>\n",
              "      <th>Stay</th>\n",
              "      <th>Stay_Cate</th>\n",
              "      <th>Japanese</th>\n",
              "      <th>Japanese_cate</th>\n",
              "      <th>English</th>\n",
              "      <th>English_cate</th>\n",
              "      <th>Intimate</th>\n",
              "      <th>Religion</th>\n",
              "      <th>Suicide</th>\n",
              "      <th>Dep</th>\n",
              "      <th>DepType</th>\n",
              "      <th>ToDep</th>\n",
              "      <th>DepSev</th>\n",
              "      <th>ToSC</th>\n",
              "      <th>APD</th>\n",
              "      <th>AHome</th>\n",
              "      <th>APH</th>\n",
              "      <th>Afear</th>\n",
              "      <th>ACS</th>\n",
              "      <th>AGuilt</th>\n",
              "      <th>AMiscell</th>\n",
              "      <th>ToAS</th>\n",
              "      <th>Partner</th>\n",
              "      <th>Friends</th>\n",
              "      <th>Parents</th>\n",
              "      <th>Relative</th>\n",
              "      <th>Profess</th>\n",
              "      <th>Phone</th>\n",
              "      <th>Doctor</th>\n",
              "      <th>Reli</th>\n",
              "      <th>Alone</th>\n",
              "      <th>Others</th>\n",
              "      <th>Internet</th>\n",
              "      <th>Partner_bi</th>\n",
              "      <th>Friends_bi</th>\n",
              "      <th>Parents_bi</th>\n",
              "      <th>Relative_bi</th>\n",
              "      <th>Professional_bi</th>\n",
              "      <th>Phone_bi</th>\n",
              "      <th>Doctor_bi</th>\n",
              "      <th>religion_bi</th>\n",
              "      <th>Alone_bi</th>\n",
              "      <th>Others_bi</th>\n",
              "      <th>Internet_bi</th>\n",
              "    </tr>\n",
              "  </thead>\n",
              "  <tbody>\n",
              "    <tr>\n",
              "      <th>0</th>\n",
              "      <td>Inter</td>\n",
              "      <td>SEA</td>\n",
              "      <td>Male</td>\n",
              "      <td>Grad</td>\n",
              "      <td>24.0</td>\n",
              "      <td>4.0</td>\n",
              "      <td>5.0</td>\n",
              "      <td>Long</td>\n",
              "      <td>3.0</td>\n",
              "      <td>Average</td>\n",
              "      <td>5.0</td>\n",
              "      <td>High</td>\n",
              "      <td>NaN</td>\n",
              "      <td>Yes</td>\n",
              "      <td>No</td>\n",
              "      <td>No</td>\n",
              "      <td>No</td>\n",
              "      <td>0.0</td>\n",
              "      <td>Min</td>\n",
              "      <td>34.0</td>\n",
              "      <td>23.0</td>\n",
              "      <td>9.0</td>\n",
              "      <td>11.0</td>\n",
              "      <td>8.0</td>\n",
              "      <td>11.0</td>\n",
              "      <td>2.0</td>\n",
              "      <td>27.0</td>\n",
              "      <td>91.0</td>\n",
              "      <td>5.0</td>\n",
              "      <td>5.0</td>\n",
              "      <td>6.0</td>\n",
              "      <td>3.0</td>\n",
              "      <td>2.0</td>\n",
              "      <td>1.0</td>\n",
              "      <td>4.0</td>\n",
              "      <td>1.0</td>\n",
              "      <td>3.0</td>\n",
              "      <td>4.0</td>\n",
              "      <td>3.0</td>\n",
              "      <td>Yes</td>\n",
              "      <td>Yes</td>\n",
              "      <td>Yes</td>\n",
              "      <td>No</td>\n",
              "      <td>No</td>\n",
              "      <td>No</td>\n",
              "      <td>No</td>\n",
              "      <td>No</td>\n",
              "      <td>No</td>\n",
              "      <td>No</td>\n",
              "      <td>No</td>\n",
              "    </tr>\n",
              "    <tr>\n",
              "      <th>1</th>\n",
              "      <td>Inter</td>\n",
              "      <td>SEA</td>\n",
              "      <td>Male</td>\n",
              "      <td>Grad</td>\n",
              "      <td>28.0</td>\n",
              "      <td>5.0</td>\n",
              "      <td>1.0</td>\n",
              "      <td>Short</td>\n",
              "      <td>4.0</td>\n",
              "      <td>High</td>\n",
              "      <td>4.0</td>\n",
              "      <td>High</td>\n",
              "      <td>NaN</td>\n",
              "      <td>No</td>\n",
              "      <td>No</td>\n",
              "      <td>No</td>\n",
              "      <td>No</td>\n",
              "      <td>2.0</td>\n",
              "      <td>Min</td>\n",
              "      <td>48.0</td>\n",
              "      <td>8.0</td>\n",
              "      <td>7.0</td>\n",
              "      <td>5.0</td>\n",
              "      <td>4.0</td>\n",
              "      <td>3.0</td>\n",
              "      <td>2.0</td>\n",
              "      <td>10.0</td>\n",
              "      <td>39.0</td>\n",
              "      <td>7.0</td>\n",
              "      <td>7.0</td>\n",
              "      <td>7.0</td>\n",
              "      <td>4.0</td>\n",
              "      <td>4.0</td>\n",
              "      <td>4.0</td>\n",
              "      <td>4.0</td>\n",
              "      <td>1.0</td>\n",
              "      <td>1.0</td>\n",
              "      <td>1.0</td>\n",
              "      <td>3.0</td>\n",
              "      <td>Yes</td>\n",
              "      <td>Yes</td>\n",
              "      <td>Yes</td>\n",
              "      <td>No</td>\n",
              "      <td>No</td>\n",
              "      <td>No</td>\n",
              "      <td>No</td>\n",
              "      <td>No</td>\n",
              "      <td>No</td>\n",
              "      <td>No</td>\n",
              "      <td>No</td>\n",
              "    </tr>\n",
              "    <tr>\n",
              "      <th>2</th>\n",
              "      <td>Inter</td>\n",
              "      <td>SEA</td>\n",
              "      <td>Male</td>\n",
              "      <td>Grad</td>\n",
              "      <td>25.0</td>\n",
              "      <td>4.0</td>\n",
              "      <td>6.0</td>\n",
              "      <td>Long</td>\n",
              "      <td>4.0</td>\n",
              "      <td>High</td>\n",
              "      <td>4.0</td>\n",
              "      <td>High</td>\n",
              "      <td>Yes</td>\n",
              "      <td>Yes</td>\n",
              "      <td>No</td>\n",
              "      <td>No</td>\n",
              "      <td>No</td>\n",
              "      <td>2.0</td>\n",
              "      <td>Min</td>\n",
              "      <td>41.0</td>\n",
              "      <td>13.0</td>\n",
              "      <td>4.0</td>\n",
              "      <td>7.0</td>\n",
              "      <td>6.0</td>\n",
              "      <td>4.0</td>\n",
              "      <td>3.0</td>\n",
              "      <td>14.0</td>\n",
              "      <td>51.0</td>\n",
              "      <td>3.0</td>\n",
              "      <td>3.0</td>\n",
              "      <td>3.0</td>\n",
              "      <td>1.0</td>\n",
              "      <td>1.0</td>\n",
              "      <td>2.0</td>\n",
              "      <td>1.0</td>\n",
              "      <td>1.0</td>\n",
              "      <td>1.0</td>\n",
              "      <td>1.0</td>\n",
              "      <td>3.0</td>\n",
              "      <td>No</td>\n",
              "      <td>No</td>\n",
              "      <td>No</td>\n",
              "      <td>No</td>\n",
              "      <td>No</td>\n",
              "      <td>No</td>\n",
              "      <td>No</td>\n",
              "      <td>No</td>\n",
              "      <td>No</td>\n",
              "      <td>No</td>\n",
              "      <td>No</td>\n",
              "    </tr>\n",
              "    <tr>\n",
              "      <th>3</th>\n",
              "      <td>Inter</td>\n",
              "      <td>EA</td>\n",
              "      <td>Female</td>\n",
              "      <td>Grad</td>\n",
              "      <td>29.0</td>\n",
              "      <td>5.0</td>\n",
              "      <td>1.0</td>\n",
              "      <td>Short</td>\n",
              "      <td>2.0</td>\n",
              "      <td>Low</td>\n",
              "      <td>3.0</td>\n",
              "      <td>Average</td>\n",
              "      <td>No</td>\n",
              "      <td>No</td>\n",
              "      <td>No</td>\n",
              "      <td>No</td>\n",
              "      <td>No</td>\n",
              "      <td>3.0</td>\n",
              "      <td>Min</td>\n",
              "      <td>37.0</td>\n",
              "      <td>16.0</td>\n",
              "      <td>10.0</td>\n",
              "      <td>10.0</td>\n",
              "      <td>8.0</td>\n",
              "      <td>6.0</td>\n",
              "      <td>4.0</td>\n",
              "      <td>21.0</td>\n",
              "      <td>75.0</td>\n",
              "      <td>5.0</td>\n",
              "      <td>5.0</td>\n",
              "      <td>5.0</td>\n",
              "      <td>5.0</td>\n",
              "      <td>5.0</td>\n",
              "      <td>2.0</td>\n",
              "      <td>2.0</td>\n",
              "      <td>2.0</td>\n",
              "      <td>4.0</td>\n",
              "      <td>4.0</td>\n",
              "      <td>3.0</td>\n",
              "      <td>Yes</td>\n",
              "      <td>Yes</td>\n",
              "      <td>Yes</td>\n",
              "      <td>Yes</td>\n",
              "      <td>Yes</td>\n",
              "      <td>No</td>\n",
              "      <td>No</td>\n",
              "      <td>No</td>\n",
              "      <td>No</td>\n",
              "      <td>No</td>\n",
              "      <td>No</td>\n",
              "    </tr>\n",
              "    <tr>\n",
              "      <th>4</th>\n",
              "      <td>Inter</td>\n",
              "      <td>EA</td>\n",
              "      <td>Female</td>\n",
              "      <td>Grad</td>\n",
              "      <td>28.0</td>\n",
              "      <td>5.0</td>\n",
              "      <td>1.0</td>\n",
              "      <td>Short</td>\n",
              "      <td>1.0</td>\n",
              "      <td>Low</td>\n",
              "      <td>3.0</td>\n",
              "      <td>Average</td>\n",
              "      <td>Yes</td>\n",
              "      <td>No</td>\n",
              "      <td>No</td>\n",
              "      <td>No</td>\n",
              "      <td>No</td>\n",
              "      <td>3.0</td>\n",
              "      <td>Min</td>\n",
              "      <td>37.0</td>\n",
              "      <td>15.0</td>\n",
              "      <td>12.0</td>\n",
              "      <td>5.0</td>\n",
              "      <td>8.0</td>\n",
              "      <td>7.0</td>\n",
              "      <td>4.0</td>\n",
              "      <td>31.0</td>\n",
              "      <td>82.0</td>\n",
              "      <td>5.0</td>\n",
              "      <td>5.0</td>\n",
              "      <td>5.0</td>\n",
              "      <td>2.0</td>\n",
              "      <td>5.0</td>\n",
              "      <td>2.0</td>\n",
              "      <td>5.0</td>\n",
              "      <td>5.0</td>\n",
              "      <td>4.0</td>\n",
              "      <td>4.0</td>\n",
              "      <td>3.0</td>\n",
              "      <td>Yes</td>\n",
              "      <td>Yes</td>\n",
              "      <td>Yes</td>\n",
              "      <td>No</td>\n",
              "      <td>Yes</td>\n",
              "      <td>No</td>\n",
              "      <td>Yes</td>\n",
              "      <td>Yes</td>\n",
              "      <td>No</td>\n",
              "      <td>No</td>\n",
              "      <td>No</td>\n",
              "    </tr>\n",
              "    <tr>\n",
              "      <th>...</th>\n",
              "      <td>...</td>\n",
              "      <td>...</td>\n",
              "      <td>...</td>\n",
              "      <td>...</td>\n",
              "      <td>...</td>\n",
              "      <td>...</td>\n",
              "      <td>...</td>\n",
              "      <td>...</td>\n",
              "      <td>...</td>\n",
              "      <td>...</td>\n",
              "      <td>...</td>\n",
              "      <td>...</td>\n",
              "      <td>...</td>\n",
              "      <td>...</td>\n",
              "      <td>...</td>\n",
              "      <td>...</td>\n",
              "      <td>...</td>\n",
              "      <td>...</td>\n",
              "      <td>...</td>\n",
              "      <td>...</td>\n",
              "      <td>...</td>\n",
              "      <td>...</td>\n",
              "      <td>...</td>\n",
              "      <td>...</td>\n",
              "      <td>...</td>\n",
              "      <td>...</td>\n",
              "      <td>...</td>\n",
              "      <td>...</td>\n",
              "      <td>...</td>\n",
              "      <td>...</td>\n",
              "      <td>...</td>\n",
              "      <td>...</td>\n",
              "      <td>...</td>\n",
              "      <td>...</td>\n",
              "      <td>...</td>\n",
              "      <td>...</td>\n",
              "      <td>...</td>\n",
              "      <td>...</td>\n",
              "      <td>...</td>\n",
              "      <td>...</td>\n",
              "      <td>...</td>\n",
              "      <td>...</td>\n",
              "      <td>...</td>\n",
              "      <td>...</td>\n",
              "      <td>...</td>\n",
              "      <td>...</td>\n",
              "      <td>...</td>\n",
              "      <td>...</td>\n",
              "      <td>...</td>\n",
              "      <td>...</td>\n",
              "    </tr>\n",
              "    <tr>\n",
              "      <th>263</th>\n",
              "      <td>Dom</td>\n",
              "      <td>JAP</td>\n",
              "      <td>Female</td>\n",
              "      <td>Under</td>\n",
              "      <td>21.0</td>\n",
              "      <td>3.0</td>\n",
              "      <td>4.0</td>\n",
              "      <td>Long</td>\n",
              "      <td>5.0</td>\n",
              "      <td>High</td>\n",
              "      <td>4.0</td>\n",
              "      <td>High</td>\n",
              "      <td>No</td>\n",
              "      <td>Yes</td>\n",
              "      <td>No</td>\n",
              "      <td>No</td>\n",
              "      <td>No</td>\n",
              "      <td>8.0</td>\n",
              "      <td>Mild</td>\n",
              "      <td>27.0</td>\n",
              "      <td>16.0</td>\n",
              "      <td>9.0</td>\n",
              "      <td>10.0</td>\n",
              "      <td>8.0</td>\n",
              "      <td>7.0</td>\n",
              "      <td>4.0</td>\n",
              "      <td>20.0</td>\n",
              "      <td>74.0</td>\n",
              "      <td>1.0</td>\n",
              "      <td>7.0</td>\n",
              "      <td>5.0</td>\n",
              "      <td>1.0</td>\n",
              "      <td>3.0</td>\n",
              "      <td>3.0</td>\n",
              "      <td>3.0</td>\n",
              "      <td>1.0</td>\n",
              "      <td>1.0</td>\n",
              "      <td>1.0</td>\n",
              "      <td>6.0</td>\n",
              "      <td>No</td>\n",
              "      <td>Yes</td>\n",
              "      <td>Yes</td>\n",
              "      <td>No</td>\n",
              "      <td>No</td>\n",
              "      <td>No</td>\n",
              "      <td>No</td>\n",
              "      <td>No</td>\n",
              "      <td>No</td>\n",
              "      <td>No</td>\n",
              "      <td>Yes</td>\n",
              "    </tr>\n",
              "    <tr>\n",
              "      <th>264</th>\n",
              "      <td>Dom</td>\n",
              "      <td>JAP</td>\n",
              "      <td>Female</td>\n",
              "      <td>Under</td>\n",
              "      <td>22.0</td>\n",
              "      <td>3.0</td>\n",
              "      <td>3.0</td>\n",
              "      <td>Medium</td>\n",
              "      <td>3.0</td>\n",
              "      <td>Average</td>\n",
              "      <td>4.0</td>\n",
              "      <td>High</td>\n",
              "      <td>Yes</td>\n",
              "      <td>Yes</td>\n",
              "      <td>No</td>\n",
              "      <td>No</td>\n",
              "      <td>No</td>\n",
              "      <td>2.0</td>\n",
              "      <td>Min</td>\n",
              "      <td>48.0</td>\n",
              "      <td>8.0</td>\n",
              "      <td>10.0</td>\n",
              "      <td>5.0</td>\n",
              "      <td>4.0</td>\n",
              "      <td>3.0</td>\n",
              "      <td>4.0</td>\n",
              "      <td>16.0</td>\n",
              "      <td>50.0</td>\n",
              "      <td>7.0</td>\n",
              "      <td>7.0</td>\n",
              "      <td>7.0</td>\n",
              "      <td>7.0</td>\n",
              "      <td>2.0</td>\n",
              "      <td>2.0</td>\n",
              "      <td>2.0</td>\n",
              "      <td>2.0</td>\n",
              "      <td>2.0</td>\n",
              "      <td>1.0</td>\n",
              "      <td>3.0</td>\n",
              "      <td>Yes</td>\n",
              "      <td>Yes</td>\n",
              "      <td>Yes</td>\n",
              "      <td>Yes</td>\n",
              "      <td>No</td>\n",
              "      <td>No</td>\n",
              "      <td>No</td>\n",
              "      <td>No</td>\n",
              "      <td>No</td>\n",
              "      <td>No</td>\n",
              "      <td>No</td>\n",
              "    </tr>\n",
              "    <tr>\n",
              "      <th>265</th>\n",
              "      <td>Dom</td>\n",
              "      <td>JAP</td>\n",
              "      <td>Female</td>\n",
              "      <td>Under</td>\n",
              "      <td>19.0</td>\n",
              "      <td>2.0</td>\n",
              "      <td>1.0</td>\n",
              "      <td>Short</td>\n",
              "      <td>5.0</td>\n",
              "      <td>High</td>\n",
              "      <td>3.0</td>\n",
              "      <td>Average</td>\n",
              "      <td>No</td>\n",
              "      <td>No</td>\n",
              "      <td>No</td>\n",
              "      <td>No</td>\n",
              "      <td>No</td>\n",
              "      <td>9.0</td>\n",
              "      <td>Mild</td>\n",
              "      <td>47.0</td>\n",
              "      <td>8.0</td>\n",
              "      <td>7.0</td>\n",
              "      <td>5.0</td>\n",
              "      <td>5.0</td>\n",
              "      <td>3.0</td>\n",
              "      <td>2.0</td>\n",
              "      <td>13.0</td>\n",
              "      <td>43.0</td>\n",
              "      <td>5.0</td>\n",
              "      <td>7.0</td>\n",
              "      <td>7.0</td>\n",
              "      <td>6.0</td>\n",
              "      <td>7.0</td>\n",
              "      <td>7.0</td>\n",
              "      <td>7.0</td>\n",
              "      <td>1.0</td>\n",
              "      <td>1.0</td>\n",
              "      <td>1.0</td>\n",
              "      <td>2.0</td>\n",
              "      <td>Yes</td>\n",
              "      <td>Yes</td>\n",
              "      <td>Yes</td>\n",
              "      <td>Yes</td>\n",
              "      <td>Yes</td>\n",
              "      <td>Yes</td>\n",
              "      <td>Yes</td>\n",
              "      <td>No</td>\n",
              "      <td>No</td>\n",
              "      <td>No</td>\n",
              "      <td>No</td>\n",
              "    </tr>\n",
              "    <tr>\n",
              "      <th>266</th>\n",
              "      <td>Dom</td>\n",
              "      <td>JAP</td>\n",
              "      <td>Male</td>\n",
              "      <td>Under</td>\n",
              "      <td>19.0</td>\n",
              "      <td>2.0</td>\n",
              "      <td>1.0</td>\n",
              "      <td>Short</td>\n",
              "      <td>5.0</td>\n",
              "      <td>High</td>\n",
              "      <td>3.0</td>\n",
              "      <td>Average</td>\n",
              "      <td>No</td>\n",
              "      <td>No</td>\n",
              "      <td>No</td>\n",
              "      <td>No</td>\n",
              "      <td>No</td>\n",
              "      <td>1.0</td>\n",
              "      <td>Min</td>\n",
              "      <td>43.0</td>\n",
              "      <td>8.0</td>\n",
              "      <td>12.0</td>\n",
              "      <td>5.0</td>\n",
              "      <td>4.0</td>\n",
              "      <td>3.0</td>\n",
              "      <td>2.0</td>\n",
              "      <td>10.0</td>\n",
              "      <td>44.0</td>\n",
              "      <td>7.0</td>\n",
              "      <td>5.0</td>\n",
              "      <td>7.0</td>\n",
              "      <td>5.0</td>\n",
              "      <td>5.0</td>\n",
              "      <td>5.0</td>\n",
              "      <td>5.0</td>\n",
              "      <td>4.0</td>\n",
              "      <td>4.0</td>\n",
              "      <td>4.0</td>\n",
              "      <td>2.0</td>\n",
              "      <td>Yes</td>\n",
              "      <td>Yes</td>\n",
              "      <td>Yes</td>\n",
              "      <td>Yes</td>\n",
              "      <td>Yes</td>\n",
              "      <td>Yes</td>\n",
              "      <td>Yes</td>\n",
              "      <td>No</td>\n",
              "      <td>No</td>\n",
              "      <td>No</td>\n",
              "      <td>No</td>\n",
              "    </tr>\n",
              "    <tr>\n",
              "      <th>267</th>\n",
              "      <td>Dom</td>\n",
              "      <td>JAP</td>\n",
              "      <td>Male</td>\n",
              "      <td>Under</td>\n",
              "      <td>20.0</td>\n",
              "      <td>2.0</td>\n",
              "      <td>2.0</td>\n",
              "      <td>Medium</td>\n",
              "      <td>5.0</td>\n",
              "      <td>High</td>\n",
              "      <td>3.0</td>\n",
              "      <td>Average</td>\n",
              "      <td>No</td>\n",
              "      <td>No</td>\n",
              "      <td>Yes</td>\n",
              "      <td>No</td>\n",
              "      <td>No</td>\n",
              "      <td>7.0</td>\n",
              "      <td>Mild</td>\n",
              "      <td>41.0</td>\n",
              "      <td>14.0</td>\n",
              "      <td>4.0</td>\n",
              "      <td>10.0</td>\n",
              "      <td>7.0</td>\n",
              "      <td>3.0</td>\n",
              "      <td>4.0</td>\n",
              "      <td>19.0</td>\n",
              "      <td>61.0</td>\n",
              "      <td>5.0</td>\n",
              "      <td>6.0</td>\n",
              "      <td>4.0</td>\n",
              "      <td>4.0</td>\n",
              "      <td>4.0</td>\n",
              "      <td>4.0</td>\n",
              "      <td>4.0</td>\n",
              "      <td>4.0</td>\n",
              "      <td>6.0</td>\n",
              "      <td>1.0</td>\n",
              "      <td>3.0</td>\n",
              "      <td>Yes</td>\n",
              "      <td>Yes</td>\n",
              "      <td>No</td>\n",
              "      <td>No</td>\n",
              "      <td>No</td>\n",
              "      <td>No</td>\n",
              "      <td>No</td>\n",
              "      <td>No</td>\n",
              "      <td>Yes</td>\n",
              "      <td>No</td>\n",
              "      <td>No</td>\n",
              "    </tr>\n",
              "  </tbody>\n",
              "</table>\n",
              "<p>268 rows × 50 columns</p>\n",
              "</div>"
            ],
            "text/plain": [
              "    inter_dom Region  Gender  ... Alone_bi  Others_bi  Internet_bi\n",
              "0       Inter    SEA    Male  ...       No         No           No\n",
              "1       Inter    SEA    Male  ...       No         No           No\n",
              "2       Inter    SEA    Male  ...       No         No           No\n",
              "3       Inter     EA  Female  ...       No         No           No\n",
              "4       Inter     EA  Female  ...       No         No           No\n",
              "..        ...    ...     ...  ...      ...        ...          ...\n",
              "263       Dom    JAP  Female  ...       No         No          Yes\n",
              "264       Dom    JAP  Female  ...       No         No           No\n",
              "265       Dom    JAP  Female  ...       No         No           No\n",
              "266       Dom    JAP    Male  ...       No         No           No\n",
              "267       Dom    JAP    Male  ...      Yes         No           No\n",
              "\n",
              "[268 rows x 50 columns]"
            ]
          },
          "metadata": {
            "tags": []
          },
          "execution_count": 3
        }
      ]
    },
    {
      "cell_type": "markdown",
      "metadata": {
        "id": "qTeX1odh9f1j"
      },
      "source": [
        "### Step 3: Check the types of data in each column\n",
        "From the get-go, we can see that we have both categorical and numerical data. \n",
        "\n",
        "Before we start analyzing them, let's take a look at what kind of data we can find in each column with the .dtypes attribute. "
      ]
    },
    {
      "cell_type": "code",
      "metadata": {
        "colab": {
          "base_uri": "https://localhost:8080/"
        },
        "id": "CWAKVCEC9f1k",
        "outputId": "eb8329f3-133b-46ab-b9c8-143b4ff05d23"
      },
      "source": [
        "# Step 3: Use dtypes to check out the type of data is found in each column\n",
        "df.dtypes"
      ],
      "execution_count": 9,
      "outputs": [
        {
          "output_type": "execute_result",
          "data": {
            "text/plain": [
              "inter_dom           object\n",
              "Region              object\n",
              "Gender              object\n",
              "Academic            object\n",
              "Age                float64\n",
              "Age_cate           float64\n",
              "Stay               float64\n",
              "Stay_Cate           object\n",
              "Japanese           float64\n",
              "Japanese_cate       object\n",
              "English            float64\n",
              "English_cate        object\n",
              "Intimate            object\n",
              "Religion            object\n",
              "Suicide             object\n",
              "Dep                 object\n",
              "DepType             object\n",
              "ToDep              float64\n",
              "DepSev              object\n",
              "ToSC               float64\n",
              "APD                float64\n",
              "AHome              float64\n",
              "APH                float64\n",
              "Afear              float64\n",
              "ACS                float64\n",
              "AGuilt             float64\n",
              "AMiscell           float64\n",
              "ToAS               float64\n",
              "Partner            float64\n",
              "Friends            float64\n",
              "Parents            float64\n",
              "Relative           float64\n",
              "Profess            float64\n",
              " Phone             float64\n",
              "Doctor             float64\n",
              "Reli               float64\n",
              "Alone              float64\n",
              "Others             float64\n",
              "Internet           float64\n",
              "Partner_bi          object\n",
              "Friends_bi          object\n",
              "Parents_bi          object\n",
              "Relative_bi         object\n",
              "Professional_bi     object\n",
              "Phone_bi            object\n",
              "Doctor_bi           object\n",
              "religion_bi         object\n",
              "Alone_bi            object\n",
              "Others_bi           object\n",
              "Internet_bi         object\n",
              "dtype: object"
            ]
          },
          "metadata": {
            "tags": []
          },
          "execution_count": 9
        }
      ]
    },
    {
      "cell_type": "markdown",
      "metadata": {
        "id": "pC-VXCii9f1l"
      },
      "source": [
        "### Step 4: Split main DataFrame into two separate ones\n",
        "Since there are many columns and we have two kinds of data types in all columns, we can consider splitting the DataFrame into two separate DataFrames:\n",
        "1. with only dtype of float64 (float)\n",
        "2. with only dtype of object (string)\n",
        "\n",
        "This is what you'd expect from the DataFrame that contains only float:\n",
        "\n",
        "![NumericalDataFrame.png](attachment:NumericalDataFrame.png)\n",
        "\n",
        "<strong>Hint: Google \"select only numeric columns pandas\"</strong>"
      ]
    },
    {
      "cell_type": "code",
      "metadata": {
        "colab": {
          "base_uri": "https://localhost:8080/",
          "height": 439
        },
        "id": "A-OXbSr59f1m",
        "outputId": "0ce61e19-fa99-4554-ce6e-82ed44954093"
      },
      "source": [
        "# Step 4a: Get your float-only DataFrame\n",
        "df_float = df.select_dtypes(include = ['float64'])\n",
        "df_float"
      ],
      "execution_count": 17,
      "outputs": [
        {
          "output_type": "execute_result",
          "data": {
            "text/html": [
              "<div>\n",
              "<style scoped>\n",
              "    .dataframe tbody tr th:only-of-type {\n",
              "        vertical-align: middle;\n",
              "    }\n",
              "\n",
              "    .dataframe tbody tr th {\n",
              "        vertical-align: top;\n",
              "    }\n",
              "\n",
              "    .dataframe thead th {\n",
              "        text-align: right;\n",
              "    }\n",
              "</style>\n",
              "<table border=\"1\" class=\"dataframe\">\n",
              "  <thead>\n",
              "    <tr style=\"text-align: right;\">\n",
              "      <th></th>\n",
              "      <th>Age</th>\n",
              "      <th>Age_cate</th>\n",
              "      <th>Stay</th>\n",
              "      <th>Japanese</th>\n",
              "      <th>English</th>\n",
              "      <th>ToDep</th>\n",
              "      <th>ToSC</th>\n",
              "      <th>APD</th>\n",
              "      <th>AHome</th>\n",
              "      <th>APH</th>\n",
              "      <th>Afear</th>\n",
              "      <th>ACS</th>\n",
              "      <th>AGuilt</th>\n",
              "      <th>AMiscell</th>\n",
              "      <th>ToAS</th>\n",
              "      <th>Partner</th>\n",
              "      <th>Friends</th>\n",
              "      <th>Parents</th>\n",
              "      <th>Relative</th>\n",
              "      <th>Profess</th>\n",
              "      <th>Phone</th>\n",
              "      <th>Doctor</th>\n",
              "      <th>Reli</th>\n",
              "      <th>Alone</th>\n",
              "      <th>Others</th>\n",
              "      <th>Internet</th>\n",
              "    </tr>\n",
              "  </thead>\n",
              "  <tbody>\n",
              "    <tr>\n",
              "      <th>0</th>\n",
              "      <td>24.0</td>\n",
              "      <td>4.0</td>\n",
              "      <td>5.0</td>\n",
              "      <td>3.0</td>\n",
              "      <td>5.0</td>\n",
              "      <td>0.0</td>\n",
              "      <td>34.0</td>\n",
              "      <td>23.0</td>\n",
              "      <td>9.0</td>\n",
              "      <td>11.0</td>\n",
              "      <td>8.0</td>\n",
              "      <td>11.0</td>\n",
              "      <td>2.0</td>\n",
              "      <td>27.0</td>\n",
              "      <td>91.0</td>\n",
              "      <td>5.0</td>\n",
              "      <td>5.0</td>\n",
              "      <td>6.0</td>\n",
              "      <td>3.0</td>\n",
              "      <td>2.0</td>\n",
              "      <td>1.0</td>\n",
              "      <td>4.0</td>\n",
              "      <td>1.0</td>\n",
              "      <td>3.0</td>\n",
              "      <td>4.0</td>\n",
              "      <td>3.0</td>\n",
              "    </tr>\n",
              "    <tr>\n",
              "      <th>1</th>\n",
              "      <td>28.0</td>\n",
              "      <td>5.0</td>\n",
              "      <td>1.0</td>\n",
              "      <td>4.0</td>\n",
              "      <td>4.0</td>\n",
              "      <td>2.0</td>\n",
              "      <td>48.0</td>\n",
              "      <td>8.0</td>\n",
              "      <td>7.0</td>\n",
              "      <td>5.0</td>\n",
              "      <td>4.0</td>\n",
              "      <td>3.0</td>\n",
              "      <td>2.0</td>\n",
              "      <td>10.0</td>\n",
              "      <td>39.0</td>\n",
              "      <td>7.0</td>\n",
              "      <td>7.0</td>\n",
              "      <td>7.0</td>\n",
              "      <td>4.0</td>\n",
              "      <td>4.0</td>\n",
              "      <td>4.0</td>\n",
              "      <td>4.0</td>\n",
              "      <td>1.0</td>\n",
              "      <td>1.0</td>\n",
              "      <td>1.0</td>\n",
              "      <td>3.0</td>\n",
              "    </tr>\n",
              "    <tr>\n",
              "      <th>2</th>\n",
              "      <td>25.0</td>\n",
              "      <td>4.0</td>\n",
              "      <td>6.0</td>\n",
              "      <td>4.0</td>\n",
              "      <td>4.0</td>\n",
              "      <td>2.0</td>\n",
              "      <td>41.0</td>\n",
              "      <td>13.0</td>\n",
              "      <td>4.0</td>\n",
              "      <td>7.0</td>\n",
              "      <td>6.0</td>\n",
              "      <td>4.0</td>\n",
              "      <td>3.0</td>\n",
              "      <td>14.0</td>\n",
              "      <td>51.0</td>\n",
              "      <td>3.0</td>\n",
              "      <td>3.0</td>\n",
              "      <td>3.0</td>\n",
              "      <td>1.0</td>\n",
              "      <td>1.0</td>\n",
              "      <td>2.0</td>\n",
              "      <td>1.0</td>\n",
              "      <td>1.0</td>\n",
              "      <td>1.0</td>\n",
              "      <td>1.0</td>\n",
              "      <td>3.0</td>\n",
              "    </tr>\n",
              "    <tr>\n",
              "      <th>3</th>\n",
              "      <td>29.0</td>\n",
              "      <td>5.0</td>\n",
              "      <td>1.0</td>\n",
              "      <td>2.0</td>\n",
              "      <td>3.0</td>\n",
              "      <td>3.0</td>\n",
              "      <td>37.0</td>\n",
              "      <td>16.0</td>\n",
              "      <td>10.0</td>\n",
              "      <td>10.0</td>\n",
              "      <td>8.0</td>\n",
              "      <td>6.0</td>\n",
              "      <td>4.0</td>\n",
              "      <td>21.0</td>\n",
              "      <td>75.0</td>\n",
              "      <td>5.0</td>\n",
              "      <td>5.0</td>\n",
              "      <td>5.0</td>\n",
              "      <td>5.0</td>\n",
              "      <td>5.0</td>\n",
              "      <td>2.0</td>\n",
              "      <td>2.0</td>\n",
              "      <td>2.0</td>\n",
              "      <td>4.0</td>\n",
              "      <td>4.0</td>\n",
              "      <td>3.0</td>\n",
              "    </tr>\n",
              "    <tr>\n",
              "      <th>4</th>\n",
              "      <td>28.0</td>\n",
              "      <td>5.0</td>\n",
              "      <td>1.0</td>\n",
              "      <td>1.0</td>\n",
              "      <td>3.0</td>\n",
              "      <td>3.0</td>\n",
              "      <td>37.0</td>\n",
              "      <td>15.0</td>\n",
              "      <td>12.0</td>\n",
              "      <td>5.0</td>\n",
              "      <td>8.0</td>\n",
              "      <td>7.0</td>\n",
              "      <td>4.0</td>\n",
              "      <td>31.0</td>\n",
              "      <td>82.0</td>\n",
              "      <td>5.0</td>\n",
              "      <td>5.0</td>\n",
              "      <td>5.0</td>\n",
              "      <td>2.0</td>\n",
              "      <td>5.0</td>\n",
              "      <td>2.0</td>\n",
              "      <td>5.0</td>\n",
              "      <td>5.0</td>\n",
              "      <td>4.0</td>\n",
              "      <td>4.0</td>\n",
              "      <td>3.0</td>\n",
              "    </tr>\n",
              "    <tr>\n",
              "      <th>...</th>\n",
              "      <td>...</td>\n",
              "      <td>...</td>\n",
              "      <td>...</td>\n",
              "      <td>...</td>\n",
              "      <td>...</td>\n",
              "      <td>...</td>\n",
              "      <td>...</td>\n",
              "      <td>...</td>\n",
              "      <td>...</td>\n",
              "      <td>...</td>\n",
              "      <td>...</td>\n",
              "      <td>...</td>\n",
              "      <td>...</td>\n",
              "      <td>...</td>\n",
              "      <td>...</td>\n",
              "      <td>...</td>\n",
              "      <td>...</td>\n",
              "      <td>...</td>\n",
              "      <td>...</td>\n",
              "      <td>...</td>\n",
              "      <td>...</td>\n",
              "      <td>...</td>\n",
              "      <td>...</td>\n",
              "      <td>...</td>\n",
              "      <td>...</td>\n",
              "      <td>...</td>\n",
              "    </tr>\n",
              "    <tr>\n",
              "      <th>263</th>\n",
              "      <td>21.0</td>\n",
              "      <td>3.0</td>\n",
              "      <td>4.0</td>\n",
              "      <td>5.0</td>\n",
              "      <td>4.0</td>\n",
              "      <td>8.0</td>\n",
              "      <td>27.0</td>\n",
              "      <td>16.0</td>\n",
              "      <td>9.0</td>\n",
              "      <td>10.0</td>\n",
              "      <td>8.0</td>\n",
              "      <td>7.0</td>\n",
              "      <td>4.0</td>\n",
              "      <td>20.0</td>\n",
              "      <td>74.0</td>\n",
              "      <td>1.0</td>\n",
              "      <td>7.0</td>\n",
              "      <td>5.0</td>\n",
              "      <td>1.0</td>\n",
              "      <td>3.0</td>\n",
              "      <td>3.0</td>\n",
              "      <td>3.0</td>\n",
              "      <td>1.0</td>\n",
              "      <td>1.0</td>\n",
              "      <td>1.0</td>\n",
              "      <td>6.0</td>\n",
              "    </tr>\n",
              "    <tr>\n",
              "      <th>264</th>\n",
              "      <td>22.0</td>\n",
              "      <td>3.0</td>\n",
              "      <td>3.0</td>\n",
              "      <td>3.0</td>\n",
              "      <td>4.0</td>\n",
              "      <td>2.0</td>\n",
              "      <td>48.0</td>\n",
              "      <td>8.0</td>\n",
              "      <td>10.0</td>\n",
              "      <td>5.0</td>\n",
              "      <td>4.0</td>\n",
              "      <td>3.0</td>\n",
              "      <td>4.0</td>\n",
              "      <td>16.0</td>\n",
              "      <td>50.0</td>\n",
              "      <td>7.0</td>\n",
              "      <td>7.0</td>\n",
              "      <td>7.0</td>\n",
              "      <td>7.0</td>\n",
              "      <td>2.0</td>\n",
              "      <td>2.0</td>\n",
              "      <td>2.0</td>\n",
              "      <td>2.0</td>\n",
              "      <td>2.0</td>\n",
              "      <td>1.0</td>\n",
              "      <td>3.0</td>\n",
              "    </tr>\n",
              "    <tr>\n",
              "      <th>265</th>\n",
              "      <td>19.0</td>\n",
              "      <td>2.0</td>\n",
              "      <td>1.0</td>\n",
              "      <td>5.0</td>\n",
              "      <td>3.0</td>\n",
              "      <td>9.0</td>\n",
              "      <td>47.0</td>\n",
              "      <td>8.0</td>\n",
              "      <td>7.0</td>\n",
              "      <td>5.0</td>\n",
              "      <td>5.0</td>\n",
              "      <td>3.0</td>\n",
              "      <td>2.0</td>\n",
              "      <td>13.0</td>\n",
              "      <td>43.0</td>\n",
              "      <td>5.0</td>\n",
              "      <td>7.0</td>\n",
              "      <td>7.0</td>\n",
              "      <td>6.0</td>\n",
              "      <td>7.0</td>\n",
              "      <td>7.0</td>\n",
              "      <td>7.0</td>\n",
              "      <td>1.0</td>\n",
              "      <td>1.0</td>\n",
              "      <td>1.0</td>\n",
              "      <td>2.0</td>\n",
              "    </tr>\n",
              "    <tr>\n",
              "      <th>266</th>\n",
              "      <td>19.0</td>\n",
              "      <td>2.0</td>\n",
              "      <td>1.0</td>\n",
              "      <td>5.0</td>\n",
              "      <td>3.0</td>\n",
              "      <td>1.0</td>\n",
              "      <td>43.0</td>\n",
              "      <td>8.0</td>\n",
              "      <td>12.0</td>\n",
              "      <td>5.0</td>\n",
              "      <td>4.0</td>\n",
              "      <td>3.0</td>\n",
              "      <td>2.0</td>\n",
              "      <td>10.0</td>\n",
              "      <td>44.0</td>\n",
              "      <td>7.0</td>\n",
              "      <td>5.0</td>\n",
              "      <td>7.0</td>\n",
              "      <td>5.0</td>\n",
              "      <td>5.0</td>\n",
              "      <td>5.0</td>\n",
              "      <td>5.0</td>\n",
              "      <td>4.0</td>\n",
              "      <td>4.0</td>\n",
              "      <td>4.0</td>\n",
              "      <td>2.0</td>\n",
              "    </tr>\n",
              "    <tr>\n",
              "      <th>267</th>\n",
              "      <td>20.0</td>\n",
              "      <td>2.0</td>\n",
              "      <td>2.0</td>\n",
              "      <td>5.0</td>\n",
              "      <td>3.0</td>\n",
              "      <td>7.0</td>\n",
              "      <td>41.0</td>\n",
              "      <td>14.0</td>\n",
              "      <td>4.0</td>\n",
              "      <td>10.0</td>\n",
              "      <td>7.0</td>\n",
              "      <td>3.0</td>\n",
              "      <td>4.0</td>\n",
              "      <td>19.0</td>\n",
              "      <td>61.0</td>\n",
              "      <td>5.0</td>\n",
              "      <td>6.0</td>\n",
              "      <td>4.0</td>\n",
              "      <td>4.0</td>\n",
              "      <td>4.0</td>\n",
              "      <td>4.0</td>\n",
              "      <td>4.0</td>\n",
              "      <td>4.0</td>\n",
              "      <td>6.0</td>\n",
              "      <td>1.0</td>\n",
              "      <td>3.0</td>\n",
              "    </tr>\n",
              "  </tbody>\n",
              "</table>\n",
              "<p>268 rows × 26 columns</p>\n",
              "</div>"
            ],
            "text/plain": [
              "      Age  Age_cate  Stay  Japanese  ...  Reli  Alone  Others  Internet\n",
              "0    24.0       4.0   5.0       3.0  ...   1.0    3.0     4.0       3.0\n",
              "1    28.0       5.0   1.0       4.0  ...   1.0    1.0     1.0       3.0\n",
              "2    25.0       4.0   6.0       4.0  ...   1.0    1.0     1.0       3.0\n",
              "3    29.0       5.0   1.0       2.0  ...   2.0    4.0     4.0       3.0\n",
              "4    28.0       5.0   1.0       1.0  ...   5.0    4.0     4.0       3.0\n",
              "..    ...       ...   ...       ...  ...   ...    ...     ...       ...\n",
              "263  21.0       3.0   4.0       5.0  ...   1.0    1.0     1.0       6.0\n",
              "264  22.0       3.0   3.0       3.0  ...   2.0    2.0     1.0       3.0\n",
              "265  19.0       2.0   1.0       5.0  ...   1.0    1.0     1.0       2.0\n",
              "266  19.0       2.0   1.0       5.0  ...   4.0    4.0     4.0       2.0\n",
              "267  20.0       2.0   2.0       5.0  ...   4.0    6.0     1.0       3.0\n",
              "\n",
              "[268 rows x 26 columns]"
            ]
          },
          "metadata": {
            "tags": []
          },
          "execution_count": 17
        }
      ]
    },
    {
      "cell_type": "code",
      "metadata": {
        "colab": {
          "base_uri": "https://localhost:8080/",
          "height": 439
        },
        "id": "ZFf3Op6P9f1n",
        "outputId": "6fb9ba32-676e-47b3-b3b9-574d8469a3ef"
      },
      "source": [
        "# Step 4b: Get your object-only DataFrame\n",
        "df_object = df.select_dtypes(include = ['object'])\n",
        "df_object"
      ],
      "execution_count": 18,
      "outputs": [
        {
          "output_type": "execute_result",
          "data": {
            "text/html": [
              "<div>\n",
              "<style scoped>\n",
              "    .dataframe tbody tr th:only-of-type {\n",
              "        vertical-align: middle;\n",
              "    }\n",
              "\n",
              "    .dataframe tbody tr th {\n",
              "        vertical-align: top;\n",
              "    }\n",
              "\n",
              "    .dataframe thead th {\n",
              "        text-align: right;\n",
              "    }\n",
              "</style>\n",
              "<table border=\"1\" class=\"dataframe\">\n",
              "  <thead>\n",
              "    <tr style=\"text-align: right;\">\n",
              "      <th></th>\n",
              "      <th>inter_dom</th>\n",
              "      <th>Region</th>\n",
              "      <th>Gender</th>\n",
              "      <th>Academic</th>\n",
              "      <th>Stay_Cate</th>\n",
              "      <th>Japanese_cate</th>\n",
              "      <th>English_cate</th>\n",
              "      <th>Intimate</th>\n",
              "      <th>Religion</th>\n",
              "      <th>Suicide</th>\n",
              "      <th>Dep</th>\n",
              "      <th>DepType</th>\n",
              "      <th>DepSev</th>\n",
              "      <th>Partner_bi</th>\n",
              "      <th>Friends_bi</th>\n",
              "      <th>Parents_bi</th>\n",
              "      <th>Relative_bi</th>\n",
              "      <th>Professional_bi</th>\n",
              "      <th>Phone_bi</th>\n",
              "      <th>Doctor_bi</th>\n",
              "      <th>religion_bi</th>\n",
              "      <th>Alone_bi</th>\n",
              "      <th>Others_bi</th>\n",
              "      <th>Internet_bi</th>\n",
              "    </tr>\n",
              "  </thead>\n",
              "  <tbody>\n",
              "    <tr>\n",
              "      <th>0</th>\n",
              "      <td>Inter</td>\n",
              "      <td>SEA</td>\n",
              "      <td>Male</td>\n",
              "      <td>Grad</td>\n",
              "      <td>Long</td>\n",
              "      <td>Average</td>\n",
              "      <td>High</td>\n",
              "      <td>NaN</td>\n",
              "      <td>Yes</td>\n",
              "      <td>No</td>\n",
              "      <td>No</td>\n",
              "      <td>No</td>\n",
              "      <td>Min</td>\n",
              "      <td>Yes</td>\n",
              "      <td>Yes</td>\n",
              "      <td>Yes</td>\n",
              "      <td>No</td>\n",
              "      <td>No</td>\n",
              "      <td>No</td>\n",
              "      <td>No</td>\n",
              "      <td>No</td>\n",
              "      <td>No</td>\n",
              "      <td>No</td>\n",
              "      <td>No</td>\n",
              "    </tr>\n",
              "    <tr>\n",
              "      <th>1</th>\n",
              "      <td>Inter</td>\n",
              "      <td>SEA</td>\n",
              "      <td>Male</td>\n",
              "      <td>Grad</td>\n",
              "      <td>Short</td>\n",
              "      <td>High</td>\n",
              "      <td>High</td>\n",
              "      <td>NaN</td>\n",
              "      <td>No</td>\n",
              "      <td>No</td>\n",
              "      <td>No</td>\n",
              "      <td>No</td>\n",
              "      <td>Min</td>\n",
              "      <td>Yes</td>\n",
              "      <td>Yes</td>\n",
              "      <td>Yes</td>\n",
              "      <td>No</td>\n",
              "      <td>No</td>\n",
              "      <td>No</td>\n",
              "      <td>No</td>\n",
              "      <td>No</td>\n",
              "      <td>No</td>\n",
              "      <td>No</td>\n",
              "      <td>No</td>\n",
              "    </tr>\n",
              "    <tr>\n",
              "      <th>2</th>\n",
              "      <td>Inter</td>\n",
              "      <td>SEA</td>\n",
              "      <td>Male</td>\n",
              "      <td>Grad</td>\n",
              "      <td>Long</td>\n",
              "      <td>High</td>\n",
              "      <td>High</td>\n",
              "      <td>Yes</td>\n",
              "      <td>Yes</td>\n",
              "      <td>No</td>\n",
              "      <td>No</td>\n",
              "      <td>No</td>\n",
              "      <td>Min</td>\n",
              "      <td>No</td>\n",
              "      <td>No</td>\n",
              "      <td>No</td>\n",
              "      <td>No</td>\n",
              "      <td>No</td>\n",
              "      <td>No</td>\n",
              "      <td>No</td>\n",
              "      <td>No</td>\n",
              "      <td>No</td>\n",
              "      <td>No</td>\n",
              "      <td>No</td>\n",
              "    </tr>\n",
              "    <tr>\n",
              "      <th>3</th>\n",
              "      <td>Inter</td>\n",
              "      <td>EA</td>\n",
              "      <td>Female</td>\n",
              "      <td>Grad</td>\n",
              "      <td>Short</td>\n",
              "      <td>Low</td>\n",
              "      <td>Average</td>\n",
              "      <td>No</td>\n",
              "      <td>No</td>\n",
              "      <td>No</td>\n",
              "      <td>No</td>\n",
              "      <td>No</td>\n",
              "      <td>Min</td>\n",
              "      <td>Yes</td>\n",
              "      <td>Yes</td>\n",
              "      <td>Yes</td>\n",
              "      <td>Yes</td>\n",
              "      <td>Yes</td>\n",
              "      <td>No</td>\n",
              "      <td>No</td>\n",
              "      <td>No</td>\n",
              "      <td>No</td>\n",
              "      <td>No</td>\n",
              "      <td>No</td>\n",
              "    </tr>\n",
              "    <tr>\n",
              "      <th>4</th>\n",
              "      <td>Inter</td>\n",
              "      <td>EA</td>\n",
              "      <td>Female</td>\n",
              "      <td>Grad</td>\n",
              "      <td>Short</td>\n",
              "      <td>Low</td>\n",
              "      <td>Average</td>\n",
              "      <td>Yes</td>\n",
              "      <td>No</td>\n",
              "      <td>No</td>\n",
              "      <td>No</td>\n",
              "      <td>No</td>\n",
              "      <td>Min</td>\n",
              "      <td>Yes</td>\n",
              "      <td>Yes</td>\n",
              "      <td>Yes</td>\n",
              "      <td>No</td>\n",
              "      <td>Yes</td>\n",
              "      <td>No</td>\n",
              "      <td>Yes</td>\n",
              "      <td>Yes</td>\n",
              "      <td>No</td>\n",
              "      <td>No</td>\n",
              "      <td>No</td>\n",
              "    </tr>\n",
              "    <tr>\n",
              "      <th>...</th>\n",
              "      <td>...</td>\n",
              "      <td>...</td>\n",
              "      <td>...</td>\n",
              "      <td>...</td>\n",
              "      <td>...</td>\n",
              "      <td>...</td>\n",
              "      <td>...</td>\n",
              "      <td>...</td>\n",
              "      <td>...</td>\n",
              "      <td>...</td>\n",
              "      <td>...</td>\n",
              "      <td>...</td>\n",
              "      <td>...</td>\n",
              "      <td>...</td>\n",
              "      <td>...</td>\n",
              "      <td>...</td>\n",
              "      <td>...</td>\n",
              "      <td>...</td>\n",
              "      <td>...</td>\n",
              "      <td>...</td>\n",
              "      <td>...</td>\n",
              "      <td>...</td>\n",
              "      <td>...</td>\n",
              "      <td>...</td>\n",
              "    </tr>\n",
              "    <tr>\n",
              "      <th>263</th>\n",
              "      <td>Dom</td>\n",
              "      <td>JAP</td>\n",
              "      <td>Female</td>\n",
              "      <td>Under</td>\n",
              "      <td>Long</td>\n",
              "      <td>High</td>\n",
              "      <td>High</td>\n",
              "      <td>No</td>\n",
              "      <td>Yes</td>\n",
              "      <td>No</td>\n",
              "      <td>No</td>\n",
              "      <td>No</td>\n",
              "      <td>Mild</td>\n",
              "      <td>No</td>\n",
              "      <td>Yes</td>\n",
              "      <td>Yes</td>\n",
              "      <td>No</td>\n",
              "      <td>No</td>\n",
              "      <td>No</td>\n",
              "      <td>No</td>\n",
              "      <td>No</td>\n",
              "      <td>No</td>\n",
              "      <td>No</td>\n",
              "      <td>Yes</td>\n",
              "    </tr>\n",
              "    <tr>\n",
              "      <th>264</th>\n",
              "      <td>Dom</td>\n",
              "      <td>JAP</td>\n",
              "      <td>Female</td>\n",
              "      <td>Under</td>\n",
              "      <td>Medium</td>\n",
              "      <td>Average</td>\n",
              "      <td>High</td>\n",
              "      <td>Yes</td>\n",
              "      <td>Yes</td>\n",
              "      <td>No</td>\n",
              "      <td>No</td>\n",
              "      <td>No</td>\n",
              "      <td>Min</td>\n",
              "      <td>Yes</td>\n",
              "      <td>Yes</td>\n",
              "      <td>Yes</td>\n",
              "      <td>Yes</td>\n",
              "      <td>No</td>\n",
              "      <td>No</td>\n",
              "      <td>No</td>\n",
              "      <td>No</td>\n",
              "      <td>No</td>\n",
              "      <td>No</td>\n",
              "      <td>No</td>\n",
              "    </tr>\n",
              "    <tr>\n",
              "      <th>265</th>\n",
              "      <td>Dom</td>\n",
              "      <td>JAP</td>\n",
              "      <td>Female</td>\n",
              "      <td>Under</td>\n",
              "      <td>Short</td>\n",
              "      <td>High</td>\n",
              "      <td>Average</td>\n",
              "      <td>No</td>\n",
              "      <td>No</td>\n",
              "      <td>No</td>\n",
              "      <td>No</td>\n",
              "      <td>No</td>\n",
              "      <td>Mild</td>\n",
              "      <td>Yes</td>\n",
              "      <td>Yes</td>\n",
              "      <td>Yes</td>\n",
              "      <td>Yes</td>\n",
              "      <td>Yes</td>\n",
              "      <td>Yes</td>\n",
              "      <td>Yes</td>\n",
              "      <td>No</td>\n",
              "      <td>No</td>\n",
              "      <td>No</td>\n",
              "      <td>No</td>\n",
              "    </tr>\n",
              "    <tr>\n",
              "      <th>266</th>\n",
              "      <td>Dom</td>\n",
              "      <td>JAP</td>\n",
              "      <td>Male</td>\n",
              "      <td>Under</td>\n",
              "      <td>Short</td>\n",
              "      <td>High</td>\n",
              "      <td>Average</td>\n",
              "      <td>No</td>\n",
              "      <td>No</td>\n",
              "      <td>No</td>\n",
              "      <td>No</td>\n",
              "      <td>No</td>\n",
              "      <td>Min</td>\n",
              "      <td>Yes</td>\n",
              "      <td>Yes</td>\n",
              "      <td>Yes</td>\n",
              "      <td>Yes</td>\n",
              "      <td>Yes</td>\n",
              "      <td>Yes</td>\n",
              "      <td>Yes</td>\n",
              "      <td>No</td>\n",
              "      <td>No</td>\n",
              "      <td>No</td>\n",
              "      <td>No</td>\n",
              "    </tr>\n",
              "    <tr>\n",
              "      <th>267</th>\n",
              "      <td>Dom</td>\n",
              "      <td>JAP</td>\n",
              "      <td>Male</td>\n",
              "      <td>Under</td>\n",
              "      <td>Medium</td>\n",
              "      <td>High</td>\n",
              "      <td>Average</td>\n",
              "      <td>No</td>\n",
              "      <td>No</td>\n",
              "      <td>Yes</td>\n",
              "      <td>No</td>\n",
              "      <td>No</td>\n",
              "      <td>Mild</td>\n",
              "      <td>Yes</td>\n",
              "      <td>Yes</td>\n",
              "      <td>No</td>\n",
              "      <td>No</td>\n",
              "      <td>No</td>\n",
              "      <td>No</td>\n",
              "      <td>No</td>\n",
              "      <td>No</td>\n",
              "      <td>Yes</td>\n",
              "      <td>No</td>\n",
              "      <td>No</td>\n",
              "    </tr>\n",
              "  </tbody>\n",
              "</table>\n",
              "<p>268 rows × 24 columns</p>\n",
              "</div>"
            ],
            "text/plain": [
              "    inter_dom Region  Gender  ... Alone_bi Others_bi Internet_bi\n",
              "0       Inter    SEA    Male  ...       No        No          No\n",
              "1       Inter    SEA    Male  ...       No        No          No\n",
              "2       Inter    SEA    Male  ...       No        No          No\n",
              "3       Inter     EA  Female  ...       No        No          No\n",
              "4       Inter     EA  Female  ...       No        No          No\n",
              "..        ...    ...     ...  ...      ...       ...         ...\n",
              "263       Dom    JAP  Female  ...       No        No         Yes\n",
              "264       Dom    JAP  Female  ...       No        No          No\n",
              "265       Dom    JAP  Female  ...       No        No          No\n",
              "266       Dom    JAP    Male  ...       No        No          No\n",
              "267       Dom    JAP    Male  ...      Yes        No          No\n",
              "\n",
              "[268 rows x 24 columns]"
            ]
          },
          "metadata": {
            "tags": []
          },
          "execution_count": 18
        }
      ]
    },
    {
      "cell_type": "markdown",
      "metadata": {
        "id": "XnFT8AiP9f1n"
      },
      "source": [
        "## Univariate analysis \n",
        "Univariate analysis is a form of analysis where we analyze the values in one column, e.g., distribution. \n",
        "\n",
        "With columns with numerical variables, we'll use a histogram. On the other hand, for columns with categorical values, we can use a countplot from seaborn, i.e. a plot that counts the frequency of the categorical values in each column. \n",
        "\n",
        "There are a lot of columns in the DataFrame that we're working with, and everything seems interesting. We will use a for loop to loop through all the columns to plot the values in them.\n",
        "\n",
        "<strong>Hint: Google \"Use a loop to plot n charts Python</strong>\n",
        "\n",
        "### Step 5: Plot numeric column values iteratively\n",
        "Using a for loop, plot histograms using the column values in the first DataFrame from Step 4a.\n",
        "\n",
        "![IterativePlotNumerical.png](attachment:IterativePlotNumerical.png)\n",
        "\n",
        "You will see something like this. \n",
        "\n",
        "<strong>Hint: Don't forget to use a .show() at the end of the for loop so you show the plots individually.</strong>"
      ]
    },
    {
      "cell_type": "code",
      "metadata": {
        "scrolled": true,
        "colab": {
          "base_uri": "https://localhost:8080/",
          "height": 1000
        },
        "id": "kw4wDulX9f1o",
        "outputId": "de7ce786-4596-4531-ebaa-f4d3e0d6d234"
      },
      "source": [
        "# Step 5: Plot the numeric column values iteratively\n",
        "for c in df_float.columns:\n",
        "  plt.title(f\"Histogram of {c}\")\n",
        "  plt.hist(df[c])\n",
        "  plt.savefig(f\"{c}.png\")\n",
        "  plt.show()"
      ],
      "execution_count": 24,
      "outputs": [
        {
          "output_type": "display_data",
          "data": {
            "image/png": "[encoded data removed]",
            "text/plain": [
              "<Figure size 432x288 with 1 Axes>"
            ]
          },
          "metadata": {
            "tags": [],
            "needs_background": "light"
          }
        },
        {
          "output_type": "display_data",
          "data": {
            "image/png": "[encoded data removed]",
            "text/plain": [
              "<Figure size 432x288 with 1 Axes>"
            ]
          },
          "metadata": {
            "tags": [],
            "needs_background": "light"
          }
        },
        {
          "output_type": "display_data",
          "data": {
            "image/png": "[encoded data removed]",
            "text/plain": [
              "<Figure size 432x288 with 1 Axes>"
            ]
          },
          "metadata": {
            "tags": [],
            "needs_background": "light"
          }
        },
        {
          "output_type": "display_data",
          "data": {
            "image/png": "[encoded data removed]",
            "text/plain": [
              "<Figure size 432x288 with 1 Axes>"
            ]
          },
          "metadata": {
            "tags": [],
            "needs_background": "light"
          }
        },
        {
          "output_type": "display_data",
          "data": {
            "image/png": "[encoded data removed]",
            "text/plain": [
              "<Figure size 432x288 with 1 Axes>"
            ]
          },
          "metadata": {
            "tags": [],
            "needs_background": "light"
          }
        },
        {
          "output_type": "display_data",
          "data": {
            "image/png": "[encoded data removed]",
            "text/plain": [
              "<Figure size 432x288 with 1 Axes>"
            ]
          },
          "metadata": {
            "tags": [],
            "needs_background": "light"
          }
        },
        {
          "output_type": "display_data",
          "data": {
            "image/png": "[encoded data removed]",
            "text/plain": [
              "<Figure size 432x288 with 1 Axes>"
            ]
          },
          "metadata": {
            "tags": [],
            "needs_background": "light"
          }
        },
        {
          "output_type": "display_data",
          "data": {
            "image/png": "[encoded data removed]",
            "text/plain": [
              "<Figure size 432x288 with 1 Axes>"
            ]
          },
          "metadata": {
            "tags": [],
            "needs_background": "light"
          }
        },
        {
          "output_type": "display_data",
          "data": {
            "image/png": "[encoded data removed]",
            "text/plain": [
              "<Figure size 432x288 with 1 Axes>"
            ]
          },
          "metadata": {
            "tags": [],
            "needs_background": "light"
          }
        },
        {
          "output_type": "display_data",
          "data": {
            "image/png": "[encoded data removed]",
            "text/plain": [
              "<Figure size 432x288 with 1 Axes>"
            ]
          },
          "metadata": {
            "tags": [],
            "needs_background": "light"
          }
        },
        {
          "output_type": "display_data",
          "data": {
            "image/png": "[encoded data removed]",
            "text/plain": [
              "<Figure size 432x288 with 1 Axes>"
            ]
          },
          "metadata": {
            "tags": [],
            "needs_background": "light"
          }
        },
        {
          "output_type": "display_data",
          "data": {
            "image/png": "[encoded data removed]",
            "text/plain": [
              "<Figure size 432x288 with 1 Axes>"
            ]
          },
          "metadata": {
            "tags": [],
            "needs_background": "light"
          }
        },
        {
          "output_type": "display_data",
          "data": {
            "image/png": "[encoded data removed]",
            "text/plain": [
              "<Figure size 432x288 with 1 Axes>"
            ]
          },
          "metadata": {
            "tags": [],
            "needs_background": "light"
          }
        },
        {
          "output_type": "display_data",
          "data": {
            "image/png": "[encoded data removed]",
            "text/plain": [
              "<Figure size 432x288 with 1 Axes>"
            ]
          },
          "metadata": {
            "tags": [],
            "needs_background": "light"
          }
        },
        {
          "output_type": "display_data",
          "data": {
            "image/png": "[encoded data removed]",
            "text/plain": [
              "<Figure size 432x288 with 1 Axes>"
            ]
          },
          "metadata": {
            "tags": [],
            "needs_background": "light"
          }
        },
        {
          "output_type": "display_data",
          "data": {
            "image/png": "[encoded data removed]",
            "text/plain": [
              "<Figure size 432x288 with 1 Axes>"
            ]
          },
          "metadata": {
            "tags": [],
            "needs_background": "light"
          }
        },
        {
          "output_type": "display_data",
          "data": {
            "image/png": "[encoded data removed]",
            "text/plain": [
              "<Figure size 432x288 with 1 Axes>"
            ]
          },
          "metadata": {
            "tags": [],
            "needs_background": "light"
          }
        },
        {
          "output_type": "display_data",
          "data": {
            "image/png": "[encoded data removed]",
            "text/plain": [
              "<Figure size 432x288 with 1 Axes>"
            ]
          },
          "metadata": {
            "tags": [],
            "needs_background": "light"
          }
        },
        {
          "output_type": "display_data",
          "data": {
            "image/png": "[encoded data removed]",
            "text/plain": [
              "<Figure size 432x288 with 1 Axes>"
            ]
          },
          "metadata": {
            "tags": [],
            "needs_background": "light"
          }
        },
        {
          "output_type": "display_data",
          "data": {
            "image/png": "[encoded data removed]",
            "text/plain": [
              "<Figure size 432x288 with 1 Axes>"
            ]
          },
          "metadata": {
            "tags": [],
            "needs_background": "light"
          }
        },
        {
          "output_type": "display_data",
          "data": {
            "image/png": "[encoded data removed]",
            "text/plain": [
              "<Figure size 432x288 with 1 Axes>"
            ]
          },
          "metadata": {
            "tags": [],
            "needs_background": "light"
          }
        },
        {
          "output_type": "display_data",
          "data": {
            "image/png": "[encoded data removed]",
            "text/plain": [
              "<Figure size 432x288 with 1 Axes>"
            ]
          },
          "metadata": {
            "tags": [],
            "needs_background": "light"
          }
        },
        {
          "output_type": "display_data",
          "data": {
            "image/png": "[encoded data removed]",
            "text/plain": [
              "<Figure size 432x288 with 1 Axes>"
            ]
          },
          "metadata": {
            "tags": [],
            "needs_background": "light"
          }
        },
        {
          "output_type": "display_data",
          "data": {
            "image/png": "[encoded data removed]",
            "text/plain": [
              "<Figure size 432x288 with 1 Axes>"
            ]
          },
          "metadata": {
            "tags": [],
            "needs_background": "light"
          }
        },
        {
          "output_type": "display_data",
          "data": {
            "image/png": "[encoded data removed]",
            "text/plain": [
              "<Figure size 432x288 with 1 Axes>"
            ]
          },
          "metadata": {
            "tags": [],
            "needs_background": "light"
          }
        },
        {
          "output_type": "display_data",
          "data": {
            "image/png": "[encoded data removed]",
            "text/plain": [
              "<Figure size 432x288 with 1 Axes>"
            ]
          },
          "metadata": {
            "tags": [],
            "needs_background": "light"
          }
        }
      ]
    },
    {
      "cell_type": "markdown",
      "metadata": {
        "id": "4UIluCXn9f1p"
      },
      "source": [
        "### Step 6: Plot categorical columns iteratively with countplot\n",
        "After we're done with the numerical columns, let's plot the categorical values with a countplot. Countplots, as the name implies, is a plot that counts the frequency of the categories in the column.\n",
        "\n",
        "Similar to Step 5, use a for loop and loop through the columns to plot countplots - seaborn has a convenient method for that. "
      ]
    },
    {
      "cell_type": "code",
      "metadata": {
        "scrolled": true,
        "colab": {
          "base_uri": "https://localhost:8080/",
          "height": 1000
        },
        "id": "kN8zmNi59f1p",
        "outputId": "437bcecc-37a8-42f2-cb7e-e00ec0777ca4"
      },
      "source": [
        "# Step 6: Plot the categorical column values iteratively\n",
        "for c in df_object.columns:\n",
        "  sns.countplot(c, data = df)\n",
        "  plt.savefig(f\"{c}.png\")\n",
        "  plt.show()"
      ],
      "execution_count": 22,
      "outputs": [
        {
          "output_type": "stream",
          "text": [
            "/usr/local/lib/python3.7/dist-packages/seaborn/_decorators.py:43: FutureWarning: Pass the following variable as a keyword arg: x. From version 0.12, the only valid positional argument will be `data`, and passing other arguments without an explicit keyword will result in an error or misinterpretation.\n",
            "  FutureWarning\n"
          ],
          "name": "stderr"
        },
        {
          "output_type": "display_data",
          "data": {
            "image/png": "[encoded data removed]",
            "text/plain": [
              "<Figure size 432x288 with 1 Axes>"
            ]
          },
          "metadata": {
            "tags": [],
            "needs_background": "light"
          }
        },
        {
          "output_type": "stream",
          "text": [
            "/usr/local/lib/python3.7/dist-packages/seaborn/_decorators.py:43: FutureWarning: Pass the following variable as a keyword arg: x. From version 0.12, the only valid positional argument will be `data`, and passing other arguments without an explicit keyword will result in an error or misinterpretation.\n",
            "  FutureWarning\n"
          ],
          "name": "stderr"
        },
        {
          "output_type": "display_data",
          "data": {
            "image/png": "[encoded data removed]",
            "text/plain": [
              "<Figure size 432x288 with 1 Axes>"
            ]
          },
          "metadata": {
            "tags": [],
            "needs_background": "light"
          }
        },
        {
          "output_type": "stream",
          "text": [
            "/usr/local/lib/python3.7/dist-packages/seaborn/_decorators.py:43: FutureWarning: Pass the following variable as a keyword arg: x. From version 0.12, the only valid positional argument will be `data`, and passing other arguments without an explicit keyword will result in an error or misinterpretation.\n",
            "  FutureWarning\n"
          ],
          "name": "stderr"
        },
        {
          "output_type": "display_data",
          "data": {
            "image/png": "[encoded data removed]",
            "text/plain": [
              "<Figure size 432x288 with 1 Axes>"
            ]
          },
          "metadata": {
            "tags": [],
            "needs_background": "light"
          }
        },
        {
          "output_type": "stream",
          "text": [
            "/usr/local/lib/python3.7/dist-packages/seaborn/_decorators.py:43: FutureWarning: Pass the following variable as a keyword arg: x. From version 0.12, the only valid positional argument will be `data`, and passing other arguments without an explicit keyword will result in an error or misinterpretation.\n",
            "  FutureWarning\n"
          ],
          "name": "stderr"
        },
        {
          "output_type": "display_data",
          "data": {
            "image/png": "[encoded data removed]",
            "text/plain": [
              "<Figure size 432x288 with 1 Axes>"
            ]
          },
          "metadata": {
            "tags": [],
            "needs_background": "light"
          }
        },
        {
          "output_type": "stream",
          "text": [
            "/usr/local/lib/python3.7/dist-packages/seaborn/_decorators.py:43: FutureWarning: Pass the following variable as a keyword arg: x. From version 0.12, the only valid positional argument will be `data`, and passing other arguments without an explicit keyword will result in an error or misinterpretation.\n",
            "  FutureWarning\n"
          ],
          "name": "stderr"
        },
        {
          "output_type": "display_data",
          "data": {
            "image/png": "[encoded data removed]",
            "text/plain": [
              "<Figure size 432x288 with 1 Axes>"
            ]
          },
          "metadata": {
            "tags": [],
            "needs_background": "light"
          }
        },
        {
          "output_type": "stream",
          "text": [
            "/usr/local/lib/python3.7/dist-packages/seaborn/_decorators.py:43: FutureWarning: Pass the following variable as a keyword arg: x. From version 0.12, the only valid positional argument will be `data`, and passing other arguments without an explicit keyword will result in an error or misinterpretation.\n",
            "  FutureWarning\n"
          ],
          "name": "stderr"
        },
        {
          "output_type": "display_data",
          "data": {
            "image/png": "[encoded data removed]",
            "text/plain": [
              "<Figure size 432x288 with 1 Axes>"
            ]
          },
          "metadata": {
            "tags": [],
            "needs_background": "light"
          }
        },
        {
          "output_type": "stream",
          "text": [
            "/usr/local/lib/python3.7/dist-packages/seaborn/_decorators.py:43: FutureWarning: Pass the following variable as a keyword arg: x. From version 0.12, the only valid positional argument will be `data`, and passing other arguments without an explicit keyword will result in an error or misinterpretation.\n",
            "  FutureWarning\n"
          ],
          "name": "stderr"
        },
        {
          "output_type": "display_data",
          "data": {
            "image/png": "[encoded data removed]",
            "text/plain": [
              "<Figure size 432x288 with 1 Axes>"
            ]
          },
          "metadata": {
            "tags": [],
            "needs_background": "light"
          }
        },
        {
          "output_type": "stream",
          "text": [
            "/usr/local/lib/python3.7/dist-packages/seaborn/_decorators.py:43: FutureWarning: Pass the following variable as a keyword arg: x. From version 0.12, the only valid positional argument will be `data`, and passing other arguments without an explicit keyword will result in an error or misinterpretation.\n",
            "  FutureWarning\n"
          ],
          "name": "stderr"
        },
        {
          "output_type": "display_data",
          "data": {
            "image/png": "[encoded data removed]",
            "text/plain": [
              "<Figure size 432x288 with 1 Axes>"
            ]
          },
          "metadata": {
            "tags": [],
            "needs_background": "light"
          }
        },
        {
          "output_type": "stream",
          "text": [
            "/usr/local/lib/python3.7/dist-packages/seaborn/_decorators.py:43: FutureWarning: Pass the following variable as a keyword arg: x. From version 0.12, the only valid positional argument will be `data`, and passing other arguments without an explicit keyword will result in an error or misinterpretation.\n",
            "  FutureWarning\n"
          ],
          "name": "stderr"
        },
        {
          "output_type": "display_data",
          "data": {
            "image/png": "[encoded data removed]",
            "text/plain": [
              "<Figure size 432x288 with 1 Axes>"
            ]
          },
          "metadata": {
            "tags": [],
            "needs_background": "light"
          }
        },
        {
          "output_type": "stream",
          "text": [
            "/usr/local/lib/python3.7/dist-packages/seaborn/_decorators.py:43: FutureWarning: Pass the following variable as a keyword arg: x. From version 0.12, the only valid positional argument will be `data`, and passing other arguments without an explicit keyword will result in an error or misinterpretation.\n",
            "  FutureWarning\n"
          ],
          "name": "stderr"
        },
        {
          "output_type": "display_data",
          "data": {
            "image/png": "[encoded data removed]",
            "text/plain": [
              "<Figure size 432x288 with 1 Axes>"
            ]
          },
          "metadata": {
            "tags": [],
            "needs_background": "light"
          }
        },
        {
          "output_type": "stream",
          "text": [
            "/usr/local/lib/python3.7/dist-packages/seaborn/_decorators.py:43: FutureWarning: Pass the following variable as a keyword arg: x. From version 0.12, the only valid positional argument will be `data`, and passing other arguments without an explicit keyword will result in an error or misinterpretation.\n",
            "  FutureWarning\n"
          ],
          "name": "stderr"
        },
        {
          "output_type": "display_data",
          "data": {
            "image/png": "[encoded data removed]",
            "text/plain": [
              "<Figure size 432x288 with 1 Axes>"
            ]
          },
          "metadata": {
            "tags": [],
            "needs_background": "light"
          }
        },
        {
          "output_type": "stream",
          "text": [
            "/usr/local/lib/python3.7/dist-packages/seaborn/_decorators.py:43: FutureWarning: Pass the following variable as a keyword arg: x. From version 0.12, the only valid positional argument will be `data`, and passing other arguments without an explicit keyword will result in an error or misinterpretation.\n",
            "  FutureWarning\n"
          ],
          "name": "stderr"
        },
        {
          "output_type": "display_data",
          "data": {
            "image/png": "[encoded data removed]",
            "text/plain": [
              "<Figure size 432x288 with 1 Axes>"
            ]
          },
          "metadata": {
            "tags": [],
            "needs_background": "light"
          }
        },
        {
          "output_type": "stream",
          "text": [
            "/usr/local/lib/python3.7/dist-packages/seaborn/_decorators.py:43: FutureWarning: Pass the following variable as a keyword arg: x. From version 0.12, the only valid positional argument will be `data`, and passing other arguments without an explicit keyword will result in an error or misinterpretation.\n",
            "  FutureWarning\n"
          ],
          "name": "stderr"
        },
        {
          "output_type": "display_data",
          "data": {
            "image/png": "[encoded data removed]",
            "text/plain": [
              "<Figure size 432x288 with 1 Axes>"
            ]
          },
          "metadata": {
            "tags": [],
            "needs_background": "light"
          }
        },
        {
          "output_type": "stream",
          "text": [
            "/usr/local/lib/python3.7/dist-packages/seaborn/_decorators.py:43: FutureWarning: Pass the following variable as a keyword arg: x. From version 0.12, the only valid positional argument will be `data`, and passing other arguments without an explicit keyword will result in an error or misinterpretation.\n",
            "  FutureWarning\n"
          ],
          "name": "stderr"
        },
        {
          "output_type": "display_data",
          "data": {
            "image/png": "[encoded data removed]",
            "text/plain": [
              "<Figure size 432x288 with 1 Axes>"
            ]
          },
          "metadata": {
            "tags": [],
            "needs_background": "light"
          }
        },
        {
          "output_type": "stream",
          "text": [
            "/usr/local/lib/python3.7/dist-packages/seaborn/_decorators.py:43: FutureWarning: Pass the following variable as a keyword arg: x. From version 0.12, the only valid positional argument will be `data`, and passing other arguments without an explicit keyword will result in an error or misinterpretation.\n",
            "  FutureWarning\n"
          ],
          "name": "stderr"
        },
        {
          "output_type": "display_data",
          "data": {
            "image/png": "[encoded data removed]",
            "text/plain": [
              "<Figure size 432x288 with 1 Axes>"
            ]
          },
          "metadata": {
            "tags": [],
            "needs_background": "light"
          }
        },
        {
          "output_type": "stream",
          "text": [
            "/usr/local/lib/python3.7/dist-packages/seaborn/_decorators.py:43: FutureWarning: Pass the following variable as a keyword arg: x. From version 0.12, the only valid positional argument will be `data`, and passing other arguments without an explicit keyword will result in an error or misinterpretation.\n",
            "  FutureWarning\n"
          ],
          "name": "stderr"
        },
        {
          "output_type": "display_data",
          "data": {
            "image/png": "[encoded data removed]",
            "text/plain": [
              "<Figure size 432x288 with 1 Axes>"
            ]
          },
          "metadata": {
            "tags": [],
            "needs_background": "light"
          }
        },
        {
          "output_type": "stream",
          "text": [
            "/usr/local/lib/python3.7/dist-packages/seaborn/_decorators.py:43: FutureWarning: Pass the following variable as a keyword arg: x. From version 0.12, the only valid positional argument will be `data`, and passing other arguments without an explicit keyword will result in an error or misinterpretation.\n",
            "  FutureWarning\n"
          ],
          "name": "stderr"
        },
        {
          "output_type": "display_data",
          "data": {
            "image/png": "[encoded data removed]",
            "text/plain": [
              "<Figure size 432x288 with 1 Axes>"
            ]
          },
          "metadata": {
            "tags": [],
            "needs_background": "light"
          }
        },
        {
          "output_type": "stream",
          "text": [
            "/usr/local/lib/python3.7/dist-packages/seaborn/_decorators.py:43: FutureWarning: Pass the following variable as a keyword arg: x. From version 0.12, the only valid positional argument will be `data`, and passing other arguments without an explicit keyword will result in an error or misinterpretation.\n",
            "  FutureWarning\n"
          ],
          "name": "stderr"
        },
        {
          "output_type": "display_data",
          "data": {
            "image/png": "[encoded data removed]",
            "text/plain": [
              "<Figure size 432x288 with 1 Axes>"
            ]
          },
          "metadata": {
            "tags": [],
            "needs_background": "light"
          }
        },
        {
          "output_type": "stream",
          "text": [
            "/usr/local/lib/python3.7/dist-packages/seaborn/_decorators.py:43: FutureWarning: Pass the following variable as a keyword arg: x. From version 0.12, the only valid positional argument will be `data`, and passing other arguments without an explicit keyword will result in an error or misinterpretation.\n",
            "  FutureWarning\n"
          ],
          "name": "stderr"
        },
        {
          "output_type": "display_data",
          "data": {
            "image/png": "[encoded data removed]",
            "text/plain": [
              "<Figure size 432x288 with 1 Axes>"
            ]
          },
          "metadata": {
            "tags": [],
            "needs_background": "light"
          }
        },
        {
          "output_type": "stream",
          "text": [
            "/usr/local/lib/python3.7/dist-packages/seaborn/_decorators.py:43: FutureWarning: Pass the following variable as a keyword arg: x. From version 0.12, the only valid positional argument will be `data`, and passing other arguments without an explicit keyword will result in an error or misinterpretation.\n",
            "  FutureWarning\n"
          ],
          "name": "stderr"
        },
        {
          "output_type": "display_data",
          "data": {
            "image/png": "[encoded data removed]",
            "text/plain": [
              "<Figure size 432x288 with 1 Axes>"
            ]
          },
          "metadata": {
            "tags": [],
            "needs_background": "light"
          }
        },
        {
          "output_type": "stream",
          "text": [
            "/usr/local/lib/python3.7/dist-packages/seaborn/_decorators.py:43: FutureWarning: Pass the following variable as a keyword arg: x. From version 0.12, the only valid positional argument will be `data`, and passing other arguments without an explicit keyword will result in an error or misinterpretation.\n",
            "  FutureWarning\n"
          ],
          "name": "stderr"
        },
        {
          "output_type": "display_data",
          "data": {
            "image/png": "[encoded data removed]",
            "text/plain": [
              "<Figure size 432x288 with 1 Axes>"
            ]
          },
          "metadata": {
            "tags": [],
            "needs_background": "light"
          }
        },
        {
          "output_type": "stream",
          "text": [
            "/usr/local/lib/python3.7/dist-packages/seaborn/_decorators.py:43: FutureWarning: Pass the following variable as a keyword arg: x. From version 0.12, the only valid positional argument will be `data`, and passing other arguments without an explicit keyword will result in an error or misinterpretation.\n",
            "  FutureWarning\n"
          ],
          "name": "stderr"
        },
        {
          "output_type": "display_data",
          "data": {
            "image/png": "[encoded data removed]",
            "text/plain": [
              "<Figure size 432x288 with 1 Axes>"
            ]
          },
          "metadata": {
            "tags": [],
            "needs_background": "light"
          }
        },
        {
          "output_type": "stream",
          "text": [
            "/usr/local/lib/python3.7/dist-packages/seaborn/_decorators.py:43: FutureWarning: Pass the following variable as a keyword arg: x. From version 0.12, the only valid positional argument will be `data`, and passing other arguments without an explicit keyword will result in an error or misinterpretation.\n",
            "  FutureWarning\n"
          ],
          "name": "stderr"
        },
        {
          "output_type": "display_data",
          "data": {
            "image/png": "[encoded data removed]",
            "text/plain": [
              "<Figure size 432x288 with 1 Axes>"
            ]
          },
          "metadata": {
            "tags": [],
            "needs_background": "light"
          }
        },
        {
          "output_type": "stream",
          "text": [
            "/usr/local/lib/python3.7/dist-packages/seaborn/_decorators.py:43: FutureWarning: Pass the following variable as a keyword arg: x. From version 0.12, the only valid positional argument will be `data`, and passing other arguments without an explicit keyword will result in an error or misinterpretation.\n",
            "  FutureWarning\n"
          ],
          "name": "stderr"
        },
        {
          "output_type": "display_data",
          "data": {
            "image/png": "[encoded data removed]",
            "text/plain": [
              "<Figure size 432x288 with 1 Axes>"
            ]
          },
          "metadata": {
            "tags": [],
            "needs_background": "light"
          }
        }
      ]
    },
    {
      "cell_type": "markdown",
      "metadata": {
        "id": "_1dJPbMv9f1q"
      },
      "source": [
        "## Bivariate analysis\n",
        "We hope you spent time pondering over the univariate analysis performed. In this section, we will perform bivariate analysis, or the analysis between two variables. \n",
        "\n",
        "The aim of bivariate analysis (BA) is to investigate the relationship and correlation between the variables. \n",
        "\n",
        "We will use three kinds of plotting:\n",
        "1. numerical variable vs categorical variable = boxplot\n",
        "2. numerical variable vs numerical variable = scatterplot\n",
        "3. categorical variable vs categorical variable = contingency table\n",
        "\n",
        "We will focus on a few variables (feel free to explore more later):\n",
        "- ToDep (Whether students have suicidal Ideation in the last 2 weeks or not (based on a question in PHQ-9))\n",
        "- Suicide (Total score of depression measured by PHQ-9)\n",
        "\n",
        "<font color = 'red'>Make sure you read the article that we recommended in Part I so you can fully appreciate the context of the analysis that you're doing.</font>\n",
        "\n",
        "### Step 7: Obtain a correlation matrix\n",
        "A correlation matrix is a <em>m</em> x <em>m</em> matrix that contains the correlation score between the column values, where <em>m</em> is the number of numeric columns in the DataFrame. \n",
        "\n",
        "You can either go for a numerical matrix which you can use .corr() method for, or you can visualize the correlation with a heatmap - colors are nice. \n",
        "\n",
        "Both are fine, as long as you get to visualize the relationship between your columns. \n",
        "\n",
        "<strong>Hint: Google \"python correlation matrix\"</strong>\n",
        "\n",
        "<strong>Hint 2: Plot's too crowded? Use plt.figure to change the figure size.</strong>"
      ]
    },
    {
      "cell_type": "code",
      "metadata": {
        "scrolled": false,
        "colab": {
          "base_uri": "https://localhost:8080/",
          "height": 875
        },
        "id": "mNS8QHaH9f1t",
        "outputId": "dccf9ec9-4cf3-4069-e2b6-ff59aefa8a5a"
      },
      "source": [
        "# Step 7: Get the correlation matrix of your DataFrame\n",
        "df_float.corr()"
      ],
      "execution_count": 29,
      "outputs": [
        {
          "output_type": "execute_result",
          "data": {
            "text/html": [
              "<div>\n",
              "<style scoped>\n",
              "    .dataframe tbody tr th:only-of-type {\n",
              "        vertical-align: middle;\n",
              "    }\n",
              "\n",
              "    .dataframe tbody tr th {\n",
              "        vertical-align: top;\n",
              "    }\n",
              "\n",
              "    .dataframe thead th {\n",
              "        text-align: right;\n",
              "    }\n",
              "</style>\n",
              "<table border=\"1\" class=\"dataframe\">\n",
              "  <thead>\n",
              "    <tr style=\"text-align: right;\">\n",
              "      <th></th>\n",
              "      <th>Age</th>\n",
              "      <th>Age_cate</th>\n",
              "      <th>Stay</th>\n",
              "      <th>Japanese</th>\n",
              "      <th>English</th>\n",
              "      <th>ToDep</th>\n",
              "      <th>ToSC</th>\n",
              "      <th>APD</th>\n",
              "      <th>AHome</th>\n",
              "      <th>APH</th>\n",
              "      <th>Afear</th>\n",
              "      <th>ACS</th>\n",
              "      <th>AGuilt</th>\n",
              "      <th>AMiscell</th>\n",
              "      <th>ToAS</th>\n",
              "      <th>Partner</th>\n",
              "      <th>Friends</th>\n",
              "      <th>Parents</th>\n",
              "      <th>Relative</th>\n",
              "      <th>Profess</th>\n",
              "      <th>Phone</th>\n",
              "      <th>Doctor</th>\n",
              "      <th>Reli</th>\n",
              "      <th>Alone</th>\n",
              "      <th>Others</th>\n",
              "      <th>Internet</th>\n",
              "    </tr>\n",
              "  </thead>\n",
              "  <tbody>\n",
              "    <tr>\n",
              "      <th>Age</th>\n",
              "      <td>1.000000</td>\n",
              "      <td>0.932391</td>\n",
              "      <td>0.302234</td>\n",
              "      <td>-0.133461</td>\n",
              "      <td>0.050873</td>\n",
              "      <td>-0.115263</td>\n",
              "      <td>0.110462</td>\n",
              "      <td>0.057490</td>\n",
              "      <td>-0.022056</td>\n",
              "      <td>-0.013014</td>\n",
              "      <td>0.017739</td>\n",
              "      <td>0.119341</td>\n",
              "      <td>-0.038558</td>\n",
              "      <td>0.046097</td>\n",
              "      <td>0.037318</td>\n",
              "      <td>0.119993</td>\n",
              "      <td>-0.054481</td>\n",
              "      <td>-0.021119</td>\n",
              "      <td>-0.025270</td>\n",
              "      <td>0.046816</td>\n",
              "      <td>-0.026765</td>\n",
              "      <td>0.047261</td>\n",
              "      <td>0.135979</td>\n",
              "      <td>-0.137415</td>\n",
              "      <td>-0.001961</td>\n",
              "      <td>-0.001132</td>\n",
              "    </tr>\n",
              "    <tr>\n",
              "      <th>Age_cate</th>\n",
              "      <td>0.932391</td>\n",
              "      <td>1.000000</td>\n",
              "      <td>0.420833</td>\n",
              "      <td>-0.047012</td>\n",
              "      <td>0.085859</td>\n",
              "      <td>-0.075536</td>\n",
              "      <td>0.085966</td>\n",
              "      <td>0.076982</td>\n",
              "      <td>-0.070844</td>\n",
              "      <td>-0.029781</td>\n",
              "      <td>-0.017560</td>\n",
              "      <td>0.094810</td>\n",
              "      <td>-0.065108</td>\n",
              "      <td>0.039060</td>\n",
              "      <td>0.018679</td>\n",
              "      <td>0.126635</td>\n",
              "      <td>-0.062392</td>\n",
              "      <td>-0.035399</td>\n",
              "      <td>-0.065354</td>\n",
              "      <td>0.024549</td>\n",
              "      <td>-0.045956</td>\n",
              "      <td>0.053559</td>\n",
              "      <td>0.105242</td>\n",
              "      <td>-0.136169</td>\n",
              "      <td>-0.000625</td>\n",
              "      <td>-0.005991</td>\n",
              "    </tr>\n",
              "    <tr>\n",
              "      <th>Stay</th>\n",
              "      <td>0.302234</td>\n",
              "      <td>0.420833</td>\n",
              "      <td>1.000000</td>\n",
              "      <td>0.307155</td>\n",
              "      <td>-0.015933</td>\n",
              "      <td>0.051581</td>\n",
              "      <td>-0.037587</td>\n",
              "      <td>0.059174</td>\n",
              "      <td>-0.123386</td>\n",
              "      <td>0.021856</td>\n",
              "      <td>0.016058</td>\n",
              "      <td>0.018954</td>\n",
              "      <td>-0.024161</td>\n",
              "      <td>-0.001383</td>\n",
              "      <td>0.000221</td>\n",
              "      <td>-0.009902</td>\n",
              "      <td>0.019637</td>\n",
              "      <td>-0.021692</td>\n",
              "      <td>-0.069792</td>\n",
              "      <td>-0.039987</td>\n",
              "      <td>-0.067336</td>\n",
              "      <td>-0.011302</td>\n",
              "      <td>-0.023514</td>\n",
              "      <td>-0.117616</td>\n",
              "      <td>0.000616</td>\n",
              "      <td>-0.004744</td>\n",
              "    </tr>\n",
              "    <tr>\n",
              "      <th>Japanese</th>\n",
              "      <td>-0.133461</td>\n",
              "      <td>-0.047012</td>\n",
              "      <td>0.307155</td>\n",
              "      <td>1.000000</td>\n",
              "      <td>-0.308978</td>\n",
              "      <td>0.036548</td>\n",
              "      <td>0.042755</td>\n",
              "      <td>-0.173587</td>\n",
              "      <td>-0.290113</td>\n",
              "      <td>-0.151483</td>\n",
              "      <td>-0.136107</td>\n",
              "      <td>-0.228954</td>\n",
              "      <td>-0.092170</td>\n",
              "      <td>-0.199898</td>\n",
              "      <td>-0.244891</td>\n",
              "      <td>0.000843</td>\n",
              "      <td>0.110171</td>\n",
              "      <td>0.154005</td>\n",
              "      <td>0.000242</td>\n",
              "      <td>0.063271</td>\n",
              "      <td>0.137827</td>\n",
              "      <td>0.092873</td>\n",
              "      <td>-0.038463</td>\n",
              "      <td>-0.191265</td>\n",
              "      <td>-0.069909</td>\n",
              "      <td>-0.076312</td>\n",
              "    </tr>\n",
              "    <tr>\n",
              "      <th>English</th>\n",
              "      <td>0.050873</td>\n",
              "      <td>0.085859</td>\n",
              "      <td>-0.015933</td>\n",
              "      <td>-0.308978</td>\n",
              "      <td>1.000000</td>\n",
              "      <td>-0.036452</td>\n",
              "      <td>-0.074368</td>\n",
              "      <td>0.155636</td>\n",
              "      <td>0.075468</td>\n",
              "      <td>0.112530</td>\n",
              "      <td>0.085023</td>\n",
              "      <td>0.153670</td>\n",
              "      <td>-0.023040</td>\n",
              "      <td>0.106229</td>\n",
              "      <td>0.138762</td>\n",
              "      <td>0.175480</td>\n",
              "      <td>0.035084</td>\n",
              "      <td>-0.028580</td>\n",
              "      <td>0.026761</td>\n",
              "      <td>0.083922</td>\n",
              "      <td>-0.050024</td>\n",
              "      <td>0.062343</td>\n",
              "      <td>0.046218</td>\n",
              "      <td>0.105538</td>\n",
              "      <td>0.108334</td>\n",
              "      <td>0.043609</td>\n",
              "    </tr>\n",
              "    <tr>\n",
              "      <th>ToDep</th>\n",
              "      <td>-0.115263</td>\n",
              "      <td>-0.075536</td>\n",
              "      <td>0.051581</td>\n",
              "      <td>0.036548</td>\n",
              "      <td>-0.036452</td>\n",
              "      <td>1.000000</td>\n",
              "      <td>-0.551795</td>\n",
              "      <td>0.340256</td>\n",
              "      <td>0.168587</td>\n",
              "      <td>0.309254</td>\n",
              "      <td>0.348630</td>\n",
              "      <td>0.274327</td>\n",
              "      <td>0.305948</td>\n",
              "      <td>0.333342</td>\n",
              "      <td>0.394095</td>\n",
              "      <td>-0.050096</td>\n",
              "      <td>-0.115297</td>\n",
              "      <td>-0.170580</td>\n",
              "      <td>-0.146194</td>\n",
              "      <td>0.063483</td>\n",
              "      <td>0.078878</td>\n",
              "      <td>-0.031114</td>\n",
              "      <td>-0.036490</td>\n",
              "      <td>0.309697</td>\n",
              "      <td>0.241072</td>\n",
              "      <td>0.154078</td>\n",
              "    </tr>\n",
              "    <tr>\n",
              "      <th>ToSC</th>\n",
              "      <td>0.110462</td>\n",
              "      <td>0.085966</td>\n",
              "      <td>-0.037587</td>\n",
              "      <td>0.042755</td>\n",
              "      <td>-0.074368</td>\n",
              "      <td>-0.551795</td>\n",
              "      <td>1.000000</td>\n",
              "      <td>-0.529497</td>\n",
              "      <td>-0.237953</td>\n",
              "      <td>-0.424246</td>\n",
              "      <td>-0.427106</td>\n",
              "      <td>-0.352779</td>\n",
              "      <td>-0.368656</td>\n",
              "      <td>-0.490885</td>\n",
              "      <td>-0.555860</td>\n",
              "      <td>0.047433</td>\n",
              "      <td>0.126789</td>\n",
              "      <td>0.176851</td>\n",
              "      <td>0.165179</td>\n",
              "      <td>-0.105633</td>\n",
              "      <td>-0.020279</td>\n",
              "      <td>-0.030819</td>\n",
              "      <td>-0.000166</td>\n",
              "      <td>-0.428907</td>\n",
              "      <td>-0.233147</td>\n",
              "      <td>-0.205616</td>\n",
              "    </tr>\n",
              "    <tr>\n",
              "      <th>APD</th>\n",
              "      <td>0.057490</td>\n",
              "      <td>0.076982</td>\n",
              "      <td>0.059174</td>\n",
              "      <td>-0.173587</td>\n",
              "      <td>0.155636</td>\n",
              "      <td>0.340256</td>\n",
              "      <td>-0.529497</td>\n",
              "      <td>1.000000</td>\n",
              "      <td>0.371330</td>\n",
              "      <td>0.647512</td>\n",
              "      <td>0.572421</td>\n",
              "      <td>0.447805</td>\n",
              "      <td>0.310699</td>\n",
              "      <td>0.578559</td>\n",
              "      <td>0.803785</td>\n",
              "      <td>0.041377</td>\n",
              "      <td>-0.045776</td>\n",
              "      <td>-0.126569</td>\n",
              "      <td>-0.063106</td>\n",
              "      <td>0.141540</td>\n",
              "      <td>0.113840</td>\n",
              "      <td>0.123260</td>\n",
              "      <td>0.185495</td>\n",
              "      <td>0.266036</td>\n",
              "      <td>0.235916</td>\n",
              "      <td>0.242380</td>\n",
              "    </tr>\n",
              "    <tr>\n",
              "      <th>AHome</th>\n",
              "      <td>-0.022056</td>\n",
              "      <td>-0.070844</td>\n",
              "      <td>-0.123386</td>\n",
              "      <td>-0.290113</td>\n",
              "      <td>0.075468</td>\n",
              "      <td>0.168587</td>\n",
              "      <td>-0.237953</td>\n",
              "      <td>0.371330</td>\n",
              "      <td>1.000000</td>\n",
              "      <td>0.397227</td>\n",
              "      <td>0.435714</td>\n",
              "      <td>0.460867</td>\n",
              "      <td>0.412860</td>\n",
              "      <td>0.506480</td>\n",
              "      <td>0.665134</td>\n",
              "      <td>0.019517</td>\n",
              "      <td>0.086685</td>\n",
              "      <td>0.167689</td>\n",
              "      <td>0.138730</td>\n",
              "      <td>0.127884</td>\n",
              "      <td>0.091044</td>\n",
              "      <td>-0.008428</td>\n",
              "      <td>0.162899</td>\n",
              "      <td>0.110229</td>\n",
              "      <td>0.192904</td>\n",
              "      <td>0.187404</td>\n",
              "    </tr>\n",
              "    <tr>\n",
              "      <th>APH</th>\n",
              "      <td>-0.013014</td>\n",
              "      <td>-0.029781</td>\n",
              "      <td>0.021856</td>\n",
              "      <td>-0.151483</td>\n",
              "      <td>0.112530</td>\n",
              "      <td>0.309254</td>\n",
              "      <td>-0.424246</td>\n",
              "      <td>0.647512</td>\n",
              "      <td>0.397227</td>\n",
              "      <td>1.000000</td>\n",
              "      <td>0.640884</td>\n",
              "      <td>0.466109</td>\n",
              "      <td>0.341833</td>\n",
              "      <td>0.546033</td>\n",
              "      <td>0.781058</td>\n",
              "      <td>-0.065899</td>\n",
              "      <td>-0.115968</td>\n",
              "      <td>-0.108921</td>\n",
              "      <td>-0.059540</td>\n",
              "      <td>0.081489</td>\n",
              "      <td>0.076090</td>\n",
              "      <td>0.066727</td>\n",
              "      <td>0.143493</td>\n",
              "      <td>0.251594</td>\n",
              "      <td>0.228293</td>\n",
              "      <td>0.121476</td>\n",
              "    </tr>\n",
              "    <tr>\n",
              "      <th>Afear</th>\n",
              "      <td>0.017739</td>\n",
              "      <td>-0.017560</td>\n",
              "      <td>0.016058</td>\n",
              "      <td>-0.136107</td>\n",
              "      <td>0.085023</td>\n",
              "      <td>0.348630</td>\n",
              "      <td>-0.427106</td>\n",
              "      <td>0.572421</td>\n",
              "      <td>0.435714</td>\n",
              "      <td>0.640884</td>\n",
              "      <td>1.000000</td>\n",
              "      <td>0.412650</td>\n",
              "      <td>0.430499</td>\n",
              "      <td>0.570425</td>\n",
              "      <td>0.759536</td>\n",
              "      <td>-0.090057</td>\n",
              "      <td>-0.090420</td>\n",
              "      <td>-0.075938</td>\n",
              "      <td>-0.023952</td>\n",
              "      <td>0.120163</td>\n",
              "      <td>0.090618</td>\n",
              "      <td>0.043980</td>\n",
              "      <td>0.169154</td>\n",
              "      <td>0.179664</td>\n",
              "      <td>0.256127</td>\n",
              "      <td>0.180256</td>\n",
              "    </tr>\n",
              "    <tr>\n",
              "      <th>ACS</th>\n",
              "      <td>0.119341</td>\n",
              "      <td>0.094810</td>\n",
              "      <td>0.018954</td>\n",
              "      <td>-0.228954</td>\n",
              "      <td>0.153670</td>\n",
              "      <td>0.274327</td>\n",
              "      <td>-0.352779</td>\n",
              "      <td>0.447805</td>\n",
              "      <td>0.460867</td>\n",
              "      <td>0.466109</td>\n",
              "      <td>0.412650</td>\n",
              "      <td>1.000000</td>\n",
              "      <td>0.402508</td>\n",
              "      <td>0.646505</td>\n",
              "      <td>0.706895</td>\n",
              "      <td>0.064173</td>\n",
              "      <td>0.040126</td>\n",
              "      <td>0.015049</td>\n",
              "      <td>0.034020</td>\n",
              "      <td>0.131397</td>\n",
              "      <td>0.111189</td>\n",
              "      <td>0.055077</td>\n",
              "      <td>0.118152</td>\n",
              "      <td>0.248219</td>\n",
              "      <td>0.180480</td>\n",
              "      <td>0.171578</td>\n",
              "    </tr>\n",
              "    <tr>\n",
              "      <th>AGuilt</th>\n",
              "      <td>-0.038558</td>\n",
              "      <td>-0.065108</td>\n",
              "      <td>-0.024161</td>\n",
              "      <td>-0.092170</td>\n",
              "      <td>-0.023040</td>\n",
              "      <td>0.305948</td>\n",
              "      <td>-0.368656</td>\n",
              "      <td>0.310699</td>\n",
              "      <td>0.412860</td>\n",
              "      <td>0.341833</td>\n",
              "      <td>0.430499</td>\n",
              "      <td>0.402508</td>\n",
              "      <td>1.000000</td>\n",
              "      <td>0.497840</td>\n",
              "      <td>0.573604</td>\n",
              "      <td>-0.029317</td>\n",
              "      <td>-0.053032</td>\n",
              "      <td>-0.073220</td>\n",
              "      <td>0.009641</td>\n",
              "      <td>0.088976</td>\n",
              "      <td>0.067525</td>\n",
              "      <td>0.002237</td>\n",
              "      <td>0.201154</td>\n",
              "      <td>0.270011</td>\n",
              "      <td>0.241436</td>\n",
              "      <td>0.133343</td>\n",
              "    </tr>\n",
              "    <tr>\n",
              "      <th>AMiscell</th>\n",
              "      <td>0.046097</td>\n",
              "      <td>0.039060</td>\n",
              "      <td>-0.001383</td>\n",
              "      <td>-0.199898</td>\n",
              "      <td>0.106229</td>\n",
              "      <td>0.333342</td>\n",
              "      <td>-0.490885</td>\n",
              "      <td>0.578559</td>\n",
              "      <td>0.506480</td>\n",
              "      <td>0.546033</td>\n",
              "      <td>0.570425</td>\n",
              "      <td>0.646505</td>\n",
              "      <td>0.497840</td>\n",
              "      <td>1.000000</td>\n",
              "      <td>0.870102</td>\n",
              "      <td>0.130702</td>\n",
              "      <td>0.055700</td>\n",
              "      <td>0.028672</td>\n",
              "      <td>0.040339</td>\n",
              "      <td>0.220644</td>\n",
              "      <td>0.121413</td>\n",
              "      <td>0.115720</td>\n",
              "      <td>0.162079</td>\n",
              "      <td>0.307181</td>\n",
              "      <td>0.290378</td>\n",
              "      <td>0.285008</td>\n",
              "    </tr>\n",
              "    <tr>\n",
              "      <th>ToAS</th>\n",
              "      <td>0.037318</td>\n",
              "      <td>0.018679</td>\n",
              "      <td>0.000221</td>\n",
              "      <td>-0.244891</td>\n",
              "      <td>0.138762</td>\n",
              "      <td>0.394095</td>\n",
              "      <td>-0.555860</td>\n",
              "      <td>0.803785</td>\n",
              "      <td>0.665134</td>\n",
              "      <td>0.781058</td>\n",
              "      <td>0.759536</td>\n",
              "      <td>0.706895</td>\n",
              "      <td>0.573604</td>\n",
              "      <td>0.870102</td>\n",
              "      <td>1.000000</td>\n",
              "      <td>0.037779</td>\n",
              "      <td>-0.012689</td>\n",
              "      <td>-0.030492</td>\n",
              "      <td>0.010953</td>\n",
              "      <td>0.187569</td>\n",
              "      <td>0.131864</td>\n",
              "      <td>0.094860</td>\n",
              "      <td>0.212768</td>\n",
              "      <td>0.315042</td>\n",
              "      <td>0.311983</td>\n",
              "      <td>0.270667</td>\n",
              "    </tr>\n",
              "    <tr>\n",
              "      <th>Partner</th>\n",
              "      <td>0.119993</td>\n",
              "      <td>0.126635</td>\n",
              "      <td>-0.009902</td>\n",
              "      <td>0.000843</td>\n",
              "      <td>0.175480</td>\n",
              "      <td>-0.050096</td>\n",
              "      <td>0.047433</td>\n",
              "      <td>0.041377</td>\n",
              "      <td>0.019517</td>\n",
              "      <td>-0.065899</td>\n",
              "      <td>-0.090057</td>\n",
              "      <td>0.064173</td>\n",
              "      <td>-0.029317</td>\n",
              "      <td>0.130702</td>\n",
              "      <td>0.037779</td>\n",
              "      <td>1.000000</td>\n",
              "      <td>0.400731</td>\n",
              "      <td>0.388258</td>\n",
              "      <td>0.225099</td>\n",
              "      <td>0.317603</td>\n",
              "      <td>0.175669</td>\n",
              "      <td>0.295508</td>\n",
              "      <td>0.095433</td>\n",
              "      <td>-0.030437</td>\n",
              "      <td>0.015382</td>\n",
              "      <td>0.129687</td>\n",
              "    </tr>\n",
              "    <tr>\n",
              "      <th>Friends</th>\n",
              "      <td>-0.054481</td>\n",
              "      <td>-0.062392</td>\n",
              "      <td>0.019637</td>\n",
              "      <td>0.110171</td>\n",
              "      <td>0.035084</td>\n",
              "      <td>-0.115297</td>\n",
              "      <td>0.126789</td>\n",
              "      <td>-0.045776</td>\n",
              "      <td>0.086685</td>\n",
              "      <td>-0.115968</td>\n",
              "      <td>-0.090420</td>\n",
              "      <td>0.040126</td>\n",
              "      <td>-0.053032</td>\n",
              "      <td>0.055700</td>\n",
              "      <td>-0.012689</td>\n",
              "      <td>0.400731</td>\n",
              "      <td>1.000000</td>\n",
              "      <td>0.481565</td>\n",
              "      <td>0.356815</td>\n",
              "      <td>0.276045</td>\n",
              "      <td>0.201295</td>\n",
              "      <td>0.286201</td>\n",
              "      <td>0.158785</td>\n",
              "      <td>-0.083854</td>\n",
              "      <td>0.045772</td>\n",
              "      <td>0.248350</td>\n",
              "    </tr>\n",
              "    <tr>\n",
              "      <th>Parents</th>\n",
              "      <td>-0.021119</td>\n",
              "      <td>-0.035399</td>\n",
              "      <td>-0.021692</td>\n",
              "      <td>0.154005</td>\n",
              "      <td>-0.028580</td>\n",
              "      <td>-0.170580</td>\n",
              "      <td>0.176851</td>\n",
              "      <td>-0.126569</td>\n",
              "      <td>0.167689</td>\n",
              "      <td>-0.108921</td>\n",
              "      <td>-0.075938</td>\n",
              "      <td>0.015049</td>\n",
              "      <td>-0.073220</td>\n",
              "      <td>0.028672</td>\n",
              "      <td>-0.030492</td>\n",
              "      <td>0.388258</td>\n",
              "      <td>0.481565</td>\n",
              "      <td>1.000000</td>\n",
              "      <td>0.613094</td>\n",
              "      <td>0.276880</td>\n",
              "      <td>0.229500</td>\n",
              "      <td>0.309684</td>\n",
              "      <td>0.184014</td>\n",
              "      <td>-0.194930</td>\n",
              "      <td>0.031011</td>\n",
              "      <td>0.146143</td>\n",
              "    </tr>\n",
              "    <tr>\n",
              "      <th>Relative</th>\n",
              "      <td>-0.025270</td>\n",
              "      <td>-0.065354</td>\n",
              "      <td>-0.069792</td>\n",
              "      <td>0.000242</td>\n",
              "      <td>0.026761</td>\n",
              "      <td>-0.146194</td>\n",
              "      <td>0.165179</td>\n",
              "      <td>-0.063106</td>\n",
              "      <td>0.138730</td>\n",
              "      <td>-0.059540</td>\n",
              "      <td>-0.023952</td>\n",
              "      <td>0.034020</td>\n",
              "      <td>0.009641</td>\n",
              "      <td>0.040339</td>\n",
              "      <td>0.010953</td>\n",
              "      <td>0.225099</td>\n",
              "      <td>0.356815</td>\n",
              "      <td>0.613094</td>\n",
              "      <td>1.000000</td>\n",
              "      <td>0.328031</td>\n",
              "      <td>0.329538</td>\n",
              "      <td>0.317201</td>\n",
              "      <td>0.321113</td>\n",
              "      <td>-0.124223</td>\n",
              "      <td>0.115868</td>\n",
              "      <td>0.136798</td>\n",
              "    </tr>\n",
              "    <tr>\n",
              "      <th>Profess</th>\n",
              "      <td>0.046816</td>\n",
              "      <td>0.024549</td>\n",
              "      <td>-0.039987</td>\n",
              "      <td>0.063271</td>\n",
              "      <td>0.083922</td>\n",
              "      <td>0.063483</td>\n",
              "      <td>-0.105633</td>\n",
              "      <td>0.141540</td>\n",
              "      <td>0.127884</td>\n",
              "      <td>0.081489</td>\n",
              "      <td>0.120163</td>\n",
              "      <td>0.131397</td>\n",
              "      <td>0.088976</td>\n",
              "      <td>0.220644</td>\n",
              "      <td>0.187569</td>\n",
              "      <td>0.317603</td>\n",
              "      <td>0.276045</td>\n",
              "      <td>0.276880</td>\n",
              "      <td>0.328031</td>\n",
              "      <td>1.000000</td>\n",
              "      <td>0.638485</td>\n",
              "      <td>0.696649</td>\n",
              "      <td>0.324434</td>\n",
              "      <td>-0.034118</td>\n",
              "      <td>0.221778</td>\n",
              "      <td>0.272254</td>\n",
              "    </tr>\n",
              "    <tr>\n",
              "      <th>Phone</th>\n",
              "      <td>-0.026765</td>\n",
              "      <td>-0.045956</td>\n",
              "      <td>-0.067336</td>\n",
              "      <td>0.137827</td>\n",
              "      <td>-0.050024</td>\n",
              "      <td>0.078878</td>\n",
              "      <td>-0.020279</td>\n",
              "      <td>0.113840</td>\n",
              "      <td>0.091044</td>\n",
              "      <td>0.076090</td>\n",
              "      <td>0.090618</td>\n",
              "      <td>0.111189</td>\n",
              "      <td>0.067525</td>\n",
              "      <td>0.121413</td>\n",
              "      <td>0.131864</td>\n",
              "      <td>0.175669</td>\n",
              "      <td>0.201295</td>\n",
              "      <td>0.229500</td>\n",
              "      <td>0.329538</td>\n",
              "      <td>0.638485</td>\n",
              "      <td>1.000000</td>\n",
              "      <td>0.635734</td>\n",
              "      <td>0.487934</td>\n",
              "      <td>0.064616</td>\n",
              "      <td>0.260440</td>\n",
              "      <td>0.381402</td>\n",
              "    </tr>\n",
              "    <tr>\n",
              "      <th>Doctor</th>\n",
              "      <td>0.047261</td>\n",
              "      <td>0.053559</td>\n",
              "      <td>-0.011302</td>\n",
              "      <td>0.092873</td>\n",
              "      <td>0.062343</td>\n",
              "      <td>-0.031114</td>\n",
              "      <td>-0.030819</td>\n",
              "      <td>0.123260</td>\n",
              "      <td>-0.008428</td>\n",
              "      <td>0.066727</td>\n",
              "      <td>0.043980</td>\n",
              "      <td>0.055077</td>\n",
              "      <td>0.002237</td>\n",
              "      <td>0.115720</td>\n",
              "      <td>0.094860</td>\n",
              "      <td>0.295508</td>\n",
              "      <td>0.286201</td>\n",
              "      <td>0.309684</td>\n",
              "      <td>0.317201</td>\n",
              "      <td>0.696649</td>\n",
              "      <td>0.635734</td>\n",
              "      <td>1.000000</td>\n",
              "      <td>0.338181</td>\n",
              "      <td>-0.023935</td>\n",
              "      <td>0.269209</td>\n",
              "      <td>0.284229</td>\n",
              "    </tr>\n",
              "    <tr>\n",
              "      <th>Reli</th>\n",
              "      <td>0.135979</td>\n",
              "      <td>0.105242</td>\n",
              "      <td>-0.023514</td>\n",
              "      <td>-0.038463</td>\n",
              "      <td>0.046218</td>\n",
              "      <td>-0.036490</td>\n",
              "      <td>-0.000166</td>\n",
              "      <td>0.185495</td>\n",
              "      <td>0.162899</td>\n",
              "      <td>0.143493</td>\n",
              "      <td>0.169154</td>\n",
              "      <td>0.118152</td>\n",
              "      <td>0.201154</td>\n",
              "      <td>0.162079</td>\n",
              "      <td>0.212768</td>\n",
              "      <td>0.095433</td>\n",
              "      <td>0.158785</td>\n",
              "      <td>0.184014</td>\n",
              "      <td>0.321113</td>\n",
              "      <td>0.324434</td>\n",
              "      <td>0.487934</td>\n",
              "      <td>0.338181</td>\n",
              "      <td>1.000000</td>\n",
              "      <td>0.113672</td>\n",
              "      <td>0.295728</td>\n",
              "      <td>0.253260</td>\n",
              "    </tr>\n",
              "    <tr>\n",
              "      <th>Alone</th>\n",
              "      <td>-0.137415</td>\n",
              "      <td>-0.136169</td>\n",
              "      <td>-0.117616</td>\n",
              "      <td>-0.191265</td>\n",
              "      <td>0.105538</td>\n",
              "      <td>0.309697</td>\n",
              "      <td>-0.428907</td>\n",
              "      <td>0.266036</td>\n",
              "      <td>0.110229</td>\n",
              "      <td>0.251594</td>\n",
              "      <td>0.179664</td>\n",
              "      <td>0.248219</td>\n",
              "      <td>0.270011</td>\n",
              "      <td>0.307181</td>\n",
              "      <td>0.315042</td>\n",
              "      <td>-0.030437</td>\n",
              "      <td>-0.083854</td>\n",
              "      <td>-0.194930</td>\n",
              "      <td>-0.124223</td>\n",
              "      <td>-0.034118</td>\n",
              "      <td>0.064616</td>\n",
              "      <td>-0.023935</td>\n",
              "      <td>0.113672</td>\n",
              "      <td>1.000000</td>\n",
              "      <td>0.354536</td>\n",
              "      <td>0.224950</td>\n",
              "    </tr>\n",
              "    <tr>\n",
              "      <th>Others</th>\n",
              "      <td>-0.001961</td>\n",
              "      <td>-0.000625</td>\n",
              "      <td>0.000616</td>\n",
              "      <td>-0.069909</td>\n",
              "      <td>0.108334</td>\n",
              "      <td>0.241072</td>\n",
              "      <td>-0.233147</td>\n",
              "      <td>0.235916</td>\n",
              "      <td>0.192904</td>\n",
              "      <td>0.228293</td>\n",
              "      <td>0.256127</td>\n",
              "      <td>0.180480</td>\n",
              "      <td>0.241436</td>\n",
              "      <td>0.290378</td>\n",
              "      <td>0.311983</td>\n",
              "      <td>0.015382</td>\n",
              "      <td>0.045772</td>\n",
              "      <td>0.031011</td>\n",
              "      <td>0.115868</td>\n",
              "      <td>0.221778</td>\n",
              "      <td>0.260440</td>\n",
              "      <td>0.269209</td>\n",
              "      <td>0.295728</td>\n",
              "      <td>0.354536</td>\n",
              "      <td>1.000000</td>\n",
              "      <td>0.273089</td>\n",
              "    </tr>\n",
              "    <tr>\n",
              "      <th>Internet</th>\n",
              "      <td>-0.001132</td>\n",
              "      <td>-0.005991</td>\n",
              "      <td>-0.004744</td>\n",
              "      <td>-0.076312</td>\n",
              "      <td>0.043609</td>\n",
              "      <td>0.154078</td>\n",
              "      <td>-0.205616</td>\n",
              "      <td>0.242380</td>\n",
              "      <td>0.187404</td>\n",
              "      <td>0.121476</td>\n",
              "      <td>0.180256</td>\n",
              "      <td>0.171578</td>\n",
              "      <td>0.133343</td>\n",
              "      <td>0.285008</td>\n",
              "      <td>0.270667</td>\n",
              "      <td>0.129687</td>\n",
              "      <td>0.248350</td>\n",
              "      <td>0.146143</td>\n",
              "      <td>0.136798</td>\n",
              "      <td>0.272254</td>\n",
              "      <td>0.381402</td>\n",
              "      <td>0.284229</td>\n",
              "      <td>0.253260</td>\n",
              "      <td>0.224950</td>\n",
              "      <td>0.273089</td>\n",
              "      <td>1.000000</td>\n",
              "    </tr>\n",
              "  </tbody>\n",
              "</table>\n",
              "</div>"
            ],
            "text/plain": [
              "               Age  Age_cate      Stay  ...     Alone    Others  Internet\n",
              "Age       1.000000  0.932391  0.302234  ... -0.137415 -0.001961 -0.001132\n",
              "Age_cate  0.932391  1.000000  0.420833  ... -0.136169 -0.000625 -0.005991\n",
              "Stay      0.302234  0.420833  1.000000  ... -0.117616  0.000616 -0.004744\n",
              "Japanese -0.133461 -0.047012  0.307155  ... -0.191265 -0.069909 -0.076312\n",
              "English   0.050873  0.085859 -0.015933  ...  0.105538  0.108334  0.043609\n",
              "ToDep    -0.115263 -0.075536  0.051581  ...  0.309697  0.241072  0.154078\n",
              "ToSC      0.110462  0.085966 -0.037587  ... -0.428907 -0.233147 -0.205616\n",
              "APD       0.057490  0.076982  0.059174  ...  0.266036  0.235916  0.242380\n",
              "AHome    -0.022056 -0.070844 -0.123386  ...  0.110229  0.192904  0.187404\n",
              "APH      -0.013014 -0.029781  0.021856  ...  0.251594  0.228293  0.121476\n",
              "Afear     0.017739 -0.017560  0.016058  ...  0.179664  0.256127  0.180256\n",
              "ACS       0.119341  0.094810  0.018954  ...  0.248219  0.180480  0.171578\n",
              "AGuilt   -0.038558 -0.065108 -0.024161  ...  0.270011  0.241436  0.133343\n",
              "AMiscell  0.046097  0.039060 -0.001383  ...  0.307181  0.290378  0.285008\n",
              "ToAS      0.037318  0.018679  0.000221  ...  0.315042  0.311983  0.270667\n",
              "Partner   0.119993  0.126635 -0.009902  ... -0.030437  0.015382  0.129687\n",
              "Friends  -0.054481 -0.062392  0.019637  ... -0.083854  0.045772  0.248350\n",
              "Parents  -0.021119 -0.035399 -0.021692  ... -0.194930  0.031011  0.146143\n",
              "Relative -0.025270 -0.065354 -0.069792  ... -0.124223  0.115868  0.136798\n",
              "Profess   0.046816  0.024549 -0.039987  ... -0.034118  0.221778  0.272254\n",
              " Phone   -0.026765 -0.045956 -0.067336  ...  0.064616  0.260440  0.381402\n",
              "Doctor    0.047261  0.053559 -0.011302  ... -0.023935  0.269209  0.284229\n",
              "Reli      0.135979  0.105242 -0.023514  ...  0.113672  0.295728  0.253260\n",
              "Alone    -0.137415 -0.136169 -0.117616  ...  1.000000  0.354536  0.224950\n",
              "Others   -0.001961 -0.000625  0.000616  ...  0.354536  1.000000  0.273089\n",
              "Internet -0.001132 -0.005991 -0.004744  ...  0.224950  0.273089  1.000000\n",
              "\n",
              "[26 rows x 26 columns]"
            ]
          },
          "metadata": {
            "tags": []
          },
          "execution_count": 29
        }
      ]
    },
    {
      "cell_type": "markdown",
      "metadata": {
        "id": "dr9A-XTP9f1u"
      },
      "source": [
        "### Step 8: Perform BA on ToDep vs ToSC with a scatterplot\n",
        "From the correlation matrix, we see that there's a negative correlation between ToDep and ToSC (Total social connectedness). \n",
        "\n",
        "It makes sense since the more socially connected one is, the lower the depression score. \n",
        "\n",
        "Plot a scatterplot between the two variables with either matplotlib.pyplot or seaborn. "
      ]
    },
    {
      "cell_type": "code",
      "metadata": {
        "colab": {
          "base_uri": "https://localhost:8080/",
          "height": 283
        },
        "id": "OrfORIU99f1u",
        "outputId": "0fb95e21-25c7-4e14-fbd9-e4bdf8caf61d"
      },
      "source": [
        "# Step 8: Plot a scatterplot between ToDep vs ToSC \n",
        "plt.scatter(df[\"ToDep\"], df[\"ToSC\"])\n",
        "plt.xlabel(\"Total Depression\")\n",
        "plt.ylabel(\"Total SC\")\n",
        "plt.show()"
      ],
      "execution_count": 32,
      "outputs": [
        {
          "output_type": "display_data",
          "data": {
            "image/png": "[encoded data removed]",
            "text/plain": [
              "<Figure size 432x288 with 1 Axes>"
            ]
          },
          "metadata": {
            "tags": [],
            "needs_background": "light"
          }
        }
      ]
    },
    {
      "cell_type": "markdown",
      "metadata": {
        "id": "xPGIrLhR9f1v"
      },
      "source": [
        "### Step 9: Perform BA on ToDep vs APD with a scatterplot\n",
        "Another interesting correlation that we see is a relatively high score between ToDep and APD (perceived discrimination score). \n",
        "\n",
        "We can hypothesize that the more discriminated a student feels, the higher the depression score. \n",
        "\n",
        "Plot a scatterplot between the two variables."
      ]
    },
    {
      "cell_type": "code",
      "metadata": {
        "colab": {
          "base_uri": "https://localhost:8080/",
          "height": 280
        },
        "id": "VOR9x2R99f1w",
        "outputId": "5ab978e7-6e41-44b1-e1c3-7fe3f9de2f93"
      },
      "source": [
        "# Step 9: Plot a scatterplot between ToDep and APD\n",
        "plt.scatter(df[\"ToDep\"], df[\"APD\"])\n",
        "plt.xlabel(\"Total Depression\")\n",
        "plt.ylabel(\"APD\")\n",
        "plt.show()"
      ],
      "execution_count": 33,
      "outputs": [
        {
          "output_type": "display_data",
          "data": {
            "image/png": "[encoded data removed]",
            "text/plain": [
              "<Figure size 432x288 with 1 Axes>"
            ]
          },
          "metadata": {
            "tags": [],
            "needs_background": "light"
          }
        }
      ]
    },
    {
      "cell_type": "markdown",
      "metadata": {
        "id": "IfuLNjXC9f1w"
      },
      "source": [
        "### Step 10: Perform BA on ToDep vs inter_dom with a boxplot\n",
        "Let's take a look at whether foreign students experience a higher depression score compared to domestic students. \n",
        "\n",
        "We can do this using a boxplot. \n",
        "\n",
        "![BoxplotExample.png](attachment:BoxplotExample.png)\n",
        "\n",
        "Here's what we'll anticipate when we plot a boxplot with the two categories in 'inter_dom' and the 'ToDep'."
      ]
    },
    {
      "cell_type": "code",
      "metadata": {
        "colab": {
          "base_uri": "https://localhost:8080/",
          "height": 351
        },
        "id": "3McgW7A-9f1x",
        "outputId": "983224fa-733a-4284-8ea3-656ea8359b60"
      },
      "source": [
        "# Step 10: Plot a boxplot between inter_dom and ToDep\n",
        "sns.boxplot(df[\"inter_dom\"], df[\"ToDep\"])\n",
        "plt.xlabel(\"inter_dom\")\n",
        "plt.ylabel(\"ToDep\")"
      ],
      "execution_count": 35,
      "outputs": [
        {
          "output_type": "stream",
          "text": [
            "/usr/local/lib/python3.7/dist-packages/seaborn/_decorators.py:43: FutureWarning: Pass the following variables as keyword args: x, y. From version 0.12, the only valid positional argument will be `data`, and passing other arguments without an explicit keyword will result in an error or misinterpretation.\n",
            "  FutureWarning\n"
          ],
          "name": "stderr"
        },
        {
          "output_type": "execute_result",
          "data": {
            "text/plain": [
              "Text(0, 0.5, 'ToDep')"
            ]
          },
          "metadata": {
            "tags": []
          },
          "execution_count": 35
        },
        {
          "output_type": "display_data",
          "data": {
            "image/png": "[encoded data removed]",
            "text/plain": [
              "<Figure size 432x288 with 1 Axes>"
            ]
          },
          "metadata": {
            "tags": [],
            "needs_background": "light"
          }
        }
      ]
    },
    {
      "cell_type": "markdown",
      "metadata": {
        "id": "9NdfAh5M9f1x"
      },
      "source": [
        "### Step 11: Perform an independent t-test between Inter and Dom\n",
        "The boxes in the boxplot do look the same, but how do we tell that it's different? \n",
        "\n",
        "In this case, we can use <strong>STATS</strong>. More specicifically, an independent t-test. A t-test helps to determine whether there is a statistically significant difference between the means in two unrelated groups.\n",
        "\n",
        "<font color = 'red'>Don't fall asleep!</font>\n",
        "\n",
        "Stats is important, and this is a rare chance to practice your skills since not all UpLevel projects have this component. \n",
        "\n",
        "Here's what we need to do:\n",
        "1. Import ttest_ind from scipy.stats\n",
        "2. Extract and separate ToDep values from 'Inter' and 'Dom'\n",
        "3. Use ttest_ind function to compare the two \n",
        "4. Assess whether pvalue < 0.05 or >= 0.05\n",
        "\n",
        "There are a few ways to do point 2 - you can use a single line if you're experienced, three or more if you're not. No worries, as long as you get two separate lists of 'ToDep' from 'Inter' and 'Dom'.\n",
        "\n",
        "<strong>Hint: Google \"get value of one column based on another column pandas\"</strong>"
      ]
    },
    {
      "cell_type": "code",
      "metadata": {
        "colab": {
          "base_uri": "https://localhost:8080/"
        },
        "id": "LawbAZk19f1y",
        "outputId": "2e1e70b1-8fab-41ba-c535-7e7781f14fc5"
      },
      "source": [
        "# Step 11a: Import ttest_ind from scipy.stats\n",
        "from scipy.stats import ttest_ind\n",
        "\n",
        "# Step 11b: Get a list containing ToDep from 'Inter', and a list containing ToDep from 'Dom'\n",
        "todep_inter = df[df[\"inter_dom\"] == \"Inter\"][\"ToDep\"]\n",
        "todep_dom = df[df[\"inter_dom\"] == \"Dom\"][\"ToDep\"]\n",
        "\n",
        "# Step 11c: Use ttest_ind on the two lists and print the results\n",
        "ttest_ind(todep_inter, todep_dom)"
      ],
      "execution_count": 41,
      "outputs": [
        {
          "output_type": "execute_result",
          "data": {
            "text/plain": [
              "Ttest_indResult(statistic=-0.8109206006749218, pvalue=0.41813622602092027)"
            ]
          },
          "metadata": {
            "tags": []
          },
          "execution_count": 41
        }
      ]
    },
    {
      "cell_type": "markdown",
      "metadata": {
        "id": "01afhOGh9f1y"
      },
      "source": [
        "If you do this right, you'll see that the pvalue is larger than 0.05, which means the means of the two groups are the same.\n",
        "\n",
        "### Step 12: Perform BA on ToDep vs Suicide with a boxplot\n",
        "For comparison that's very obvious, let's do ToDep vs Suicide. \n",
        "\n",
        "In the dataset, Suicide refers to whether the students as had suicide ideation in the past two weeks."
      ]
    },
    {
      "cell_type": "code",
      "metadata": {
        "colab": {
          "base_uri": "https://localhost:8080/",
          "height": 350
        },
        "id": "4Sn-4h229f1z",
        "outputId": "7a7bd9c2-b310-436e-b196-32f9c52e4d82"
      },
      "source": [
        "# Step 12: Plot boxplot between Suicide and ToDep\n",
        "sns.boxplot(df[\"Suicide\"], df[\"ToDep\"])\n",
        "plt.xlabel(\"Suicide\")\n",
        "plt.ylabel(\"ToDep\")"
      ],
      "execution_count": 42,
      "outputs": [
        {
          "output_type": "stream",
          "text": [
            "/usr/local/lib/python3.7/dist-packages/seaborn/_decorators.py:43: FutureWarning: Pass the following variables as keyword args: x, y. From version 0.12, the only valid positional argument will be `data`, and passing other arguments without an explicit keyword will result in an error or misinterpretation.\n",
            "  FutureWarning\n"
          ],
          "name": "stderr"
        },
        {
          "output_type": "execute_result",
          "data": {
            "text/plain": [
              "Text(0, 0.5, 'ToDep')"
            ]
          },
          "metadata": {
            "tags": []
          },
          "execution_count": 42
        },
        {
          "output_type": "display_data",
          "data": {
            "image/png": "[encoded data removed]",
            "text/plain": [
              "<Figure size 432x288 with 1 Axes>"
            ]
          },
          "metadata": {
            "tags": [],
            "needs_background": "light"
          }
        }
      ]
    },
    {
      "cell_type": "markdown",
      "metadata": {
        "id": "wmfIvROp9f1z"
      },
      "source": [
        "### Step 13: Repeat Step 11 on ToDep vs Suicide\n",
        "The boxplot result should be very obvious in answering whether there is a difference between suicide ideation and the total depressions score. \n",
        "\n",
        "However, for confirmation let's perform another independent t-test between the Yes and No groups. "
      ]
    },
    {
      "cell_type": "code",
      "metadata": {
        "colab": {
          "base_uri": "https://localhost:8080/"
        },
        "id": "4qYOAjfB9f1z",
        "outputId": "0fd17349-9d4a-4890-fd9e-67dfe8ced790"
      },
      "source": [
        "# Step 13: Repeat the t-test\n",
        "todep_yes = df[df[\"Suicide\"] == \"Yes\"][\"ToDep\"]\n",
        "todep_no = df[df[\"Suicide\"] == \"No\"][\"ToDep\"]\n",
        "\n",
        "ttest_ind(todep_yes, todep_no)"
      ],
      "execution_count": 49,
      "outputs": [
        {
          "output_type": "execute_result",
          "data": {
            "text/plain": [
              "Ttest_indResult(statistic=10.589085179497475, pvalue=4.290131684472933e-22)"
            ]
          },
          "metadata": {
            "tags": []
          },
          "execution_count": 49
        }
      ]
    },
    {
      "cell_type": "markdown",
      "metadata": {
        "id": "AMgxBX4V9f10"
      },
      "source": [
        "### Step 14: Perform BA on ToDep vs Gender with a boxplot\n",
        "You got this - plot the boxplot for ToDep vs Gender and then do a t-test."
      ]
    },
    {
      "cell_type": "code",
      "metadata": {
        "scrolled": true,
        "colab": {
          "base_uri": "https://localhost:8080/",
          "height": 367
        },
        "id": "xfAw1F_a9f10",
        "outputId": "227fc166-1878-4d0f-c399-839db28e1c93"
      },
      "source": [
        "# Step 14a: Plot a boxplot on ToDep vs Gender\n",
        "sns.boxplot(df[\"Gender\"], df[\"ToDep\"])\n",
        "plt.xlabel(\"Gender\")\n",
        "plt.ylabel(\"ToDep\")\n",
        "\n",
        "# Step 14b: Print the results of the t-test of ToDep between Male and Female\n",
        "todep_male = df[df[\"Gender\"] == \"Male\"][\"ToDep\"]\n",
        "todep_female = df[df[\"Gender\"] == \"Female\"][\"ToDep\"]\n",
        "\n",
        "print(ttest_ind(todep_male, todep_female))\n",
        "print()"
      ],
      "execution_count": 51,
      "outputs": [
        {
          "output_type": "stream",
          "text": [
            "Ttest_indResult(statistic=-0.9285560600922729, pvalue=0.3539610264273153)\n",
            "\n"
          ],
          "name": "stdout"
        },
        {
          "output_type": "stream",
          "text": [
            "/usr/local/lib/python3.7/dist-packages/seaborn/_decorators.py:43: FutureWarning: Pass the following variables as keyword args: x, y. From version 0.12, the only valid positional argument will be `data`, and passing other arguments without an explicit keyword will result in an error or misinterpretation.\n",
            "  FutureWarning\n"
          ],
          "name": "stderr"
        },
        {
          "output_type": "display_data",
          "data": {
            "image/png": "[encoded data removed]",
            "text/plain": [
              "<Figure size 432x288 with 1 Axes>"
            ]
          },
          "metadata": {
            "tags": [],
            "needs_background": "light"
          }
        }
      ]
    },
    {
      "cell_type": "markdown",
      "metadata": {
        "id": "oI9AVL1f9f11"
      },
      "source": [
        "### Step 15: Perform BA on Suicide vs Religion with a contingency table\n",
        "One of the proposed questions in the article that you can try testing is whether having a religion affects suicide ideation. \n",
        "\n",
        "Both 'Religion' and 'Suicide' are categorical values, so let's plot a contingency table first. \n",
        "\n",
        "We anticipate to see something like either of these two as the output:\n",
        "\n",
        "![ContingencyTable.png](attachment:ContingencyTable.png)\n",
        "\n",
        "<strong>Hint: Google \"create a contingency table python from two columns\"</strong>"
      ]
    },
    {
      "cell_type": "code",
      "metadata": {
        "colab": {
          "base_uri": "https://localhost:8080/",
          "height": 142
        },
        "id": "5E_vpe5c9f11",
        "outputId": "7da976cb-8c75-443e-dbc3-74448e20c9c0"
      },
      "source": [
        "# Step 15: Create a contingency table between Religion and Suicide\n",
        "ct = pd.crosstab(df[\"Suicide\"], df[\"Religion\"])\n",
        "ct"
      ],
      "execution_count": 53,
      "outputs": [
        {
          "output_type": "execute_result",
          "data": {
            "text/html": [
              "<div>\n",
              "<style scoped>\n",
              "    .dataframe tbody tr th:only-of-type {\n",
              "        vertical-align: middle;\n",
              "    }\n",
              "\n",
              "    .dataframe tbody tr th {\n",
              "        vertical-align: top;\n",
              "    }\n",
              "\n",
              "    .dataframe thead th {\n",
              "        text-align: right;\n",
              "    }\n",
              "</style>\n",
              "<table border=\"1\" class=\"dataframe\">\n",
              "  <thead>\n",
              "    <tr style=\"text-align: right;\">\n",
              "      <th>Religion</th>\n",
              "      <th>No</th>\n",
              "      <th>Yes</th>\n",
              "    </tr>\n",
              "    <tr>\n",
              "      <th>Suicide</th>\n",
              "      <th></th>\n",
              "      <th></th>\n",
              "    </tr>\n",
              "  </thead>\n",
              "  <tbody>\n",
              "    <tr>\n",
              "      <th>No</th>\n",
              "      <td>136</td>\n",
              "      <td>71</td>\n",
              "    </tr>\n",
              "    <tr>\n",
              "      <th>Yes</th>\n",
              "      <td>41</td>\n",
              "      <td>20</td>\n",
              "    </tr>\n",
              "  </tbody>\n",
              "</table>\n",
              "</div>"
            ],
            "text/plain": [
              "Religion   No  Yes\n",
              "Suicide           \n",
              "No        136   71\n",
              "Yes        41   20"
            ]
          },
          "metadata": {
            "tags": []
          },
          "execution_count": 53
        }
      ]
    },
    {
      "cell_type": "markdown",
      "metadata": {
        "id": "0Kc_DXja9f12"
      },
      "source": [
        "### Step 16: Perform chi-squared test of independence on the contingency table from Step 15\n",
        "\n",
        "After we get the contingency table, we will perform a chi-squared test of independence between the two variables. \n",
        "\n",
        "Here's what you'll need to do:\n",
        "1. import chi2_contingency from scipy.stats\n",
        "2. use chi2_contingency as the contingency table from Step 15\n",
        "3. look at the second item of the results and see if it is < 0.05 or >= 0.05\n",
        "    - if the value of the second item is < 0.05, the two categorical variables are dependent\n",
        "    - if the value of the second item is >= 0.05, the two categorical variables are independent\n",
        "\n",
        "![ChiSquareResult.png](attachment:ChiSquareResult.png)\n",
        "\n",
        "Useful reading: https://machinelearningmastery.com/chi-squared-test-for-machine-learning/"
      ]
    },
    {
      "cell_type": "code",
      "metadata": {
        "colab": {
          "base_uri": "https://localhost:8080/"
        },
        "id": "geMJ3ge79f12",
        "outputId": "9dcac34e-b962-49af-fa39-616cf0097ff1"
      },
      "source": [
        "# Step 16a: Import chi2_contingency from scipy.stats\n",
        "from scipy.stats import chi2_contingency\n",
        "\n",
        "# Step 16b: Calculate chi-square statistics iwth chi2_contingency\n",
        "chi2_contingency(ct)\n",
        "\n",
        "# Step 16c: Print the results from 16b"
      ],
      "execution_count": 54,
      "outputs": [
        {
          "output_type": "execute_result",
          "data": {
            "text/plain": [
              "(0.004281240904940765,\n",
              " 0.9478306895469024,\n",
              " 1,\n",
              " array([[136.71268657,  70.28731343],\n",
              "        [ 40.28731343,  20.71268657]]))"
            ]
          },
          "metadata": {
            "tags": []
          },
          "execution_count": 54
        }
      ]
    },
    {
      "cell_type": "markdown",
      "metadata": {
        "id": "WDXXcKSx9f13"
      },
      "source": [
        "### Step 17: Try more of your own analyses\n",
        "This is an interesting dataset, so feel free to try a few more analyses like what you did in Steps 15-16. \n",
        "\n",
        "Here are a few suggestions that you can try:\n",
        "1. Intimate vs Suicide - is having a partner in life and suicide ideation independent of each other?\n",
        "2. Dep vs Suicide - is having depressive symptoms and suicide ideation independent of each other?\n",
        "3. Alone_bi vs Suicide - is the willingness to solve problems by oneself and suicide ideation indepedent of each other?"
      ]
    },
    {
      "cell_type": "code",
      "metadata": {
        "colab": {
          "base_uri": "https://localhost:8080/",
          "height": 142
        },
        "id": "IDKFc1tf9f13",
        "outputId": "a406dbec-7d09-4273-b278-df0fb6d7cf5f"
      },
      "source": [
        "# Step 17: Try different chi-square analyses\n",
        "pd.crosstab(df[\"Suicide\"], df[\"Intimate\"])"
      ],
      "execution_count": 55,
      "outputs": [
        {
          "output_type": "execute_result",
          "data": {
            "text/html": [
              "<div>\n",
              "<style scoped>\n",
              "    .dataframe tbody tr th:only-of-type {\n",
              "        vertical-align: middle;\n",
              "    }\n",
              "\n",
              "    .dataframe tbody tr th {\n",
              "        vertical-align: top;\n",
              "    }\n",
              "\n",
              "    .dataframe thead th {\n",
              "        text-align: right;\n",
              "    }\n",
              "</style>\n",
              "<table border=\"1\" class=\"dataframe\">\n",
              "  <thead>\n",
              "    <tr style=\"text-align: right;\">\n",
              "      <th>Intimate</th>\n",
              "      <th>No</th>\n",
              "      <th>Yes</th>\n",
              "    </tr>\n",
              "    <tr>\n",
              "      <th>Suicide</th>\n",
              "      <th></th>\n",
              "      <th></th>\n",
              "    </tr>\n",
              "  </thead>\n",
              "  <tbody>\n",
              "    <tr>\n",
              "      <th>No</th>\n",
              "      <td>121</td>\n",
              "      <td>79</td>\n",
              "    </tr>\n",
              "    <tr>\n",
              "      <th>Yes</th>\n",
              "      <td>36</td>\n",
              "      <td>24</td>\n",
              "    </tr>\n",
              "  </tbody>\n",
              "</table>\n",
              "</div>"
            ],
            "text/plain": [
              "Intimate   No  Yes\n",
              "Suicide           \n",
              "No        121   79\n",
              "Yes        36   24"
            ]
          },
          "metadata": {
            "tags": []
          },
          "execution_count": 55
        }
      ]
    },
    {
      "cell_type": "code",
      "metadata": {
        "colab": {
          "base_uri": "https://localhost:8080/",
          "height": 142
        },
        "id": "pydBlisi_Sfe",
        "outputId": "535e5800-dcc6-4b36-c330-ec24d3a930c2"
      },
      "source": [
        "pd.crosstab(df[\"Suicide\"], df[\"Dep\"])"
      ],
      "execution_count": 56,
      "outputs": [
        {
          "output_type": "execute_result",
          "data": {
            "text/html": [
              "<div>\n",
              "<style scoped>\n",
              "    .dataframe tbody tr th:only-of-type {\n",
              "        vertical-align: middle;\n",
              "    }\n",
              "\n",
              "    .dataframe tbody tr th {\n",
              "        vertical-align: top;\n",
              "    }\n",
              "\n",
              "    .dataframe thead th {\n",
              "        text-align: right;\n",
              "    }\n",
              "</style>\n",
              "<table border=\"1\" class=\"dataframe\">\n",
              "  <thead>\n",
              "    <tr style=\"text-align: right;\">\n",
              "      <th>Dep</th>\n",
              "      <th>No</th>\n",
              "      <th>Yes</th>\n",
              "    </tr>\n",
              "    <tr>\n",
              "      <th>Suicide</th>\n",
              "      <th></th>\n",
              "      <th></th>\n",
              "    </tr>\n",
              "  </thead>\n",
              "  <tbody>\n",
              "    <tr>\n",
              "      <th>No</th>\n",
              "      <td>151</td>\n",
              "      <td>56</td>\n",
              "    </tr>\n",
              "    <tr>\n",
              "      <th>Yes</th>\n",
              "      <td>21</td>\n",
              "      <td>40</td>\n",
              "    </tr>\n",
              "  </tbody>\n",
              "</table>\n",
              "</div>"
            ],
            "text/plain": [
              "Dep       No  Yes\n",
              "Suicide          \n",
              "No       151   56\n",
              "Yes       21   40"
            ]
          },
          "metadata": {
            "tags": []
          },
          "execution_count": 56
        }
      ]
    },
    {
      "cell_type": "code",
      "metadata": {
        "colab": {
          "base_uri": "https://localhost:8080/",
          "height": 142
        },
        "id": "JmP236RQ_Suw",
        "outputId": "5b7279bb-ae5c-440e-f1c5-2214faf101e5"
      },
      "source": [
        "pd.crosstab(df[\"Suicide\"], df[\"Alone_bi\"])"
      ],
      "execution_count": 57,
      "outputs": [
        {
          "output_type": "execute_result",
          "data": {
            "text/html": [
              "<div>\n",
              "<style scoped>\n",
              "    .dataframe tbody tr th:only-of-type {\n",
              "        vertical-align: middle;\n",
              "    }\n",
              "\n",
              "    .dataframe tbody tr th {\n",
              "        vertical-align: top;\n",
              "    }\n",
              "\n",
              "    .dataframe thead th {\n",
              "        text-align: right;\n",
              "    }\n",
              "</style>\n",
              "<table border=\"1\" class=\"dataframe\">\n",
              "  <thead>\n",
              "    <tr style=\"text-align: right;\">\n",
              "      <th>Alone_bi</th>\n",
              "      <th>No</th>\n",
              "      <th>Yes</th>\n",
              "    </tr>\n",
              "    <tr>\n",
              "      <th>Suicide</th>\n",
              "      <th></th>\n",
              "      <th></th>\n",
              "    </tr>\n",
              "  </thead>\n",
              "  <tbody>\n",
              "    <tr>\n",
              "      <th>No</th>\n",
              "      <td>169</td>\n",
              "      <td>38</td>\n",
              "    </tr>\n",
              "    <tr>\n",
              "      <th>Yes</th>\n",
              "      <td>34</td>\n",
              "      <td>27</td>\n",
              "    </tr>\n",
              "  </tbody>\n",
              "</table>\n",
              "</div>"
            ],
            "text/plain": [
              "Alone_bi   No  Yes\n",
              "Suicide           \n",
              "No        169   38\n",
              "Yes        34   27"
            ]
          },
          "metadata": {
            "tags": []
          },
          "execution_count": 57
        }
      ]
    },
    {
      "cell_type": "markdown",
      "metadata": {
        "id": "rQIK_6Tw9f13"
      },
      "source": [
        "### End of Part II\n",
        "Hurray, you're done with Part II! In this Part, you performed exploratory data analysis using visualization and statistical testing. \n",
        "\n",
        "In the next Part, we will prepare our data for machine learning."
      ]
    }
  ]
}